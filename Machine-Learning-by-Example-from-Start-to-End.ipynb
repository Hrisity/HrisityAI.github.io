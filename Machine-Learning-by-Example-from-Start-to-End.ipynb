{
 "cells": [
  {
   "cell_type": "markdown",
   "id": "301dbeb4",
   "metadata": {},
   "source": [
    "**GUID**: 2653889r\n",
    "**GitHub URL**: https://github.com/Hrisity/HrisityAI.github.io.git"
   ]
  },
  {
   "cell_type": "markdown",
   "id": "97c259f2",
   "metadata": {},
   "source": [
    "# Machine Learning by Example: from Start to End"
   ]
  },
  {
   "cell_type": "markdown",
   "id": "d6539a1d",
   "metadata": {},
   "source": [
    "# Task 1: README!\n",
    "\n",
    "#### The tasks in this notebook should be tackled in discussion with your peer group! \n",
    "\n",
    "**By asking and answering each other questions, you learn much more than doing independent work.** The article [“Embracing Digitalization: Student Learning and New Technologies” (Crittenden, Biel & Lovely 2018)](https://journals.sagepub.com/doi/10.1177/0273475318820895) shows how we learn and retain more information when we explain and discuss it with others.\n",
    "\n",
    "Before you tackle a machine learning project you should make sure you keep the bigger picture in your head - this is your human input, skill, and imagination -  no AI can do this for you at the moment. The following sketches the typical steps involved in a machine learning project:\n",
    "\n",
    "- Step 1: Frame Your Problem\n",
    "    - What is the task? - Who will use it in what environment? What are the risks and impact?\n",
    "    - How will you measure performance of your model? Measures sufficient to assess potential risks and impacts?\n",
    "    - What are the assumptions? Document and review assumptions for bias. Question everything.\n",
    "- Step 2: Get Your Data\n",
    "    - Download your data - How will your get your data from where? Permissions and licenses? Suitable and reliable?\n",
    "    - Take a quick look at the data structure - how big is it? what fields/attributes are there and how many?\n",
    "    - Set aside test data - random split or stratified split? \n",
    "- Step 3: Prepare Your Data\n",
    "    - Handling Text/Categorical Data\n",
    "    - Scaling and Transformation\n",
    "    - Separate the labels from the rest of the attributes\n",
    "- Step 4: Select and Train Your Model\n",
    "    - train and evaluate on the training set\n",
    "    - cross-validation\n",
    "- Step 6: Test on Completely New Data\n",
    "- Step 7: Publish Your Results! Party! &#x1F389; &#x1F389; &#x1F389;\n",
    "\n",
    "In this notebook, we will go through some of the key the steps. Some tasks will involve critical reflection, and others will be about coding. \n",
    "\n",
    "Remember that, **if you are taking more than 30 minutes to do one task without any progress**, you should probably take a break. \n",
    "- Note down what you did and what errors you got in a markdown cell. This will help you understand the recurring errors, you will understand where you left off when you come back to it later, and also help you when you discuss the problem with your peers and with the lab tutors.  \n",
    "\n",
    "The code in this notebook is modified from that which was made available by Aurélien Géron and his fabulous book [\"Hands-On Machine Learning with Scitkit-Learn, Keras & Tensorflow\"](https://eleanor.lib.gla.ac.uk/record=b4094676)."
   ]
  },
  {
   "cell_type": "markdown",
   "id": "6186da91",
   "metadata": {},
   "source": [
    "## Task 1-1: Before You Start: Prepare Your Computing Environment \n",
    "\n",
    "### Step 1: First, open Glasgow Anywhere Remote Desktop. Use the Student Desktop. \n",
    "You can use your own machine but it can take more time to set up just so for your course work. The remote desktop, in contrast, has almost every package.\n",
    "\n",
    "### Step 2: Go through the standard approach to opening a notebook. \n",
    "- Open a browser (recommend Chrome incognito mode). \n",
    "- Navigate to the course moodle.\n",
    "- Download the notebook linked at `Machine Learning by Example from Start to End` from the course [Resources section](https://moodle.gla.ac.uk/course/view.php?id=39566#section-3). Save it in your course project folder on `One Drive - University of Glasgow`.\n",
    "- Start Anaconda Navigator. \n",
    "- Launch Jupyter Notebook. \n",
    "- Navigate to your course project folder. Open up the notebook you downloaded.\n",
    "\n",
    "Do not opening a Jupyter Notebook directly – always go through Anaconda Navigator. This allows you to clearly see which version notebook you are opening. The correct version leads to the availability of necessary Python libraries.\n",
    "\n",
    "### Step 3: Prepare to upload material to your GitHub repository. \n",
    "Open a web browser (recommend Google Chrome in incognito mode). Navigate to GitHub and log in. Navigate to your repository for the course AI for the Arts and Humanities (A).\n"
   ]
  },
  {
   "cell_type": "markdown",
   "id": "6025a3c8",
   "metadata": {},
   "source": [
    "## Task 1-2: Checking Your Set Up\n",
    "\n",
    "It is important not only to check that you have the correct set of software and packages, but also that the version is the right one. If versions are not compatible with your code then it will throw up errors or unexpected results. This is why you need to make these requirements known to people you share your code with (by, for example, by accompanying your code with a requirements.txt file, as included in your previous lab exrcises).\n",
    "\n",
    "### Python\n",
    "\n",
    "Check that your Python has version greater than 3.7 using the following code. This is what the code in the noteboook requires."
   ]
  },
  {
   "cell_type": "code",
   "execution_count": 1,
   "id": "eb2a627b",
   "metadata": {},
   "outputs": [],
   "source": [
    "import sys # importing the package sys which lets you talk to your computer system.\n",
    "\n",
    "assert sys.version_info >= (3, 7) #versions are expressed a pair of numbers (3, 7) which is equivalent to 3.7. "
   ]
  },
  {
   "cell_type": "markdown",
   "id": "2eb61a85",
   "metadata": {},
   "source": [
    "The `assert` statement throws up an error when the statement following it is not true. If it is true, nothing will be shown. Experiment by replacing the numbers in the round brackets to be much bigger. **A Pair of numbers** like `(3, 7)` in round brackets is a data structure known as a **tuple** in programming lingo. \n",
    "\n",
    "### Scikit-Learn\n",
    "\n",
    "Check that your Scikit-Learn package version is greater than 1.0.1. \n",
    "\n",
    "In this case you will need to import `version` which is part of the `packaging` Python library. This allows you to extract/parse version numbers for Python packages/libraries like `sklearn`."
   ]
  },
  {
   "cell_type": "code",
   "execution_count": 2,
   "id": "c5882a1a",
   "metadata": {},
   "outputs": [],
   "source": [
    "from packaging import version #import the package \"version\"\n",
    "import sklearn # import scikit-learn\n",
    "\n",
    "assert version.parse(sklearn.__version__) >= version.parse(\"1.0.1\") "
   ]
  },
  {
   "cell_type": "markdown",
   "id": "100761e5",
   "metadata": {},
   "source": [
    "### Fonts Used in Figures\n",
    "\n",
    "The following code sets some font sizes to be used with `matplotlib.pyplot` (recall we used matplotlib in previous exercises to display visual information or data). You can set different sizes if you like, but too big and it won't look nice, too little and it will illegible. The code is intended to **prettify** your figures to look nicer."
   ]
  },
  {
   "cell_type": "code",
   "execution_count": 3,
   "id": "6b10286e",
   "metadata": {},
   "outputs": [],
   "source": [
    "import matplotlib.pyplot as plt\n",
    "\n",
    "plt.rc('font', size=14) #general font size\n",
    "plt.rc('axes', labelsize=14, titlesize=14) #font size for the titles of x and y axes\n",
    "plt.rc('legend', fontsize=14) # font size for legends\n",
    "plt.rc('xtick', labelsize=10) # the font size of labels for intervals marked on the x axis\n",
    "plt.rc('ytick', labelsize=10) # the font size of labels for intervals marked on the y axis"
   ]
  },
  {
   "cell_type": "markdown",
   "id": "a039fb99",
   "metadata": {},
   "source": [
    "### Creating the Folder for Images \n",
    "\n",
    "The code below creates the directory `images/classification` (if it doesn't already exist) and defines the `save_fig()` function which is used to save the figures you create in matplotlib in high resolution."
   ]
  },
  {
   "cell_type": "code",
   "execution_count": 4,
   "id": "75f5275f",
   "metadata": {},
   "outputs": [],
   "source": [
    "from pathlib import Path\n",
    "\n",
    "IMAGES_PATH = Path() / \"images\" / \"classification\"\n",
    "IMAGES_PATH.mkdir(parents=True, exist_ok=True)\n",
    "\n",
    "def save_fig(fig_id, tight_layout=True, fig_extension=\"png\", resolution=300):\n",
    "    path = IMAGES_PATH / f\"{fig_id}.{fig_extension}\"\n",
    "    if tight_layout:\n",
    "        plt.tight_layout()\n",
    "    plt.savefig(path, format=fig_extension, dpi=resolution)"
   ]
  },
  {
   "cell_type": "markdown",
   "id": "2dafd09c",
   "metadata": {},
   "source": [
    "## Task 1-3: Review Machine Learning\n",
    "\n",
    "### Step 1: Create a markdown cell to demonstrate your own reflection\n",
    "- Follow the instructions in Part 1, Task 1, to open your Python notebook. And Create a Markdown cell.\n",
    "- In your markdown cell embed an image or link to a diagram illustrating the workflow from data to algorithm to model and data to model to predicted output. \n",
    "    - To embed images in your markdown cell, you can use the syntax `![alt text](image.jpg)` where you replace alt text with a description of your image (keep the square brackets!) and replace image.jpg with the file path and name of your image. \n",
    "    - To include a URL, use the syntax `[title](https://www.example.com)` where you replace title  with your own description, and https://www.example.com  with your own URL. Keep all brackets intact. \n",
    "    - For your reference, you can refer to the [markdown cheat sheet](https://www.markdownguide.org/cheat-sheet/)  - note that HTML codes are also understood by your notebook.\n",
    "- Explain in your markdown cell how the examples in Lectures 3 & 4 align with the workflow. For example, what is the data, what was the learning algorithm, what is the model and what did the model output in response to new data?\n",
    "- Reflect on the range of ways to explain the workflow and the examples to a wider audience, for example, a museum curator?\n",
    "\n",
    "### Step 2: Discuss and report your reflection with your group\n",
    "- Get together with your peer group. Take turns to discuss your reflection above. If you have any difficulties, discuss these also.\n",
    "- Note down the results of your discussion in your notebook. In particular, note down anything that help you or others learn the topic. What approach could take in your notebook to engage the wider audience with your machine learning code.\n",
    "I've created a cell for you to use already below - double click on the area to start editing."
   ]
  },
  {
   "cell_type": "markdown",
   "id": "72fdf563",
   "metadata": {},
   "source": [
    "***Markdown Cell***\n",
    "\n",
    "**Task 1-3**\n",
    "**Step 1**\n",
    "\n",
    "[![Workflow from Data to Algorithm to Model and Data to Model to Predicted Output](https://miro.medium.com/v2/resize:fit:1400/format:webp/1*QV1rVgh3bfaMbtxueS-cgA.png)](https://towardsdatascience.com/workflow-of-a-machine-learning-project-ec1dba419b94)\n",
    "*Originally Published in [Towards Data Science](https://towardsdatascience.com) on Jan 11, 2019 by Ayush Pant, the image can be used under the Towards Data Science license*\n",
    "\n",
    "**Machine learning Model**\n",
    "\n",
    "The machine learning model is primarily a piece of code that has been trained with data, so it provides provide accurate predictions (Pant, 2019). The effectivness of this model is measured by the ability it has to make accurate predictions on unseen data. Three are the main stages involved: data gathering, data pre-processing, and model selection. The first stage involves the collection of a data set; it can be from different sources. One of the most important processes in machine learning is data pre-processing. It takes part in the “building of machine learning models more accurately”. It is claimed that 80% of the time is for the pre-processing of the data and the other 20% is for performing the analysis. This stage involves raw data cleaning, which means that the raw gathered data from different sources is converted into a small data set and now this data is feasible for analysis. The next stage is the research of a model that works best for the data type. Machine learning tasks or algorithms are Supervised learning, classification, unsupervised learning, clustering and regression. After selecting a model, you train it on your data, evaluate its performance, and fine-tune it as needed.\n",
    "\n",
    "\n",
    "\n",
    "**Explanation of the workflow to a wider audience, for example, a museum curator**\n",
    "\n",
    "1. Data Collection is, as mentioned, the first stage of our machine-learning journey. Using relatable analogies and examples from the curator's domain, I would say that this stage is similar to gathering artefacts and information for an exhibition in a museum. Every historical artefact and piece of information, as well as related documents, are carefully selected. This is a process as crucial as the data collection. \n",
    "2. Data Preprocessing is similar to cataloguing, cleaning, and restoring artefacts before displaying them. In machine learning, this step involves cleaning and organising data in a way that ensures that no pieces are missing, as well as that the imperfections are fixed.\n",
    "3. Model Selection is similar to curating an exhibition. The curator carefully decides how to present and arrange, so a specific message is conveyed. Similarly, in machine learning, the appropriate model or method to analyse the data is selected.\n",
    "4. Model Training is similar to what I believe is called \"Designing the Exhibition Layout\". Planning the exhibition so it has a meaningful narrative. In the same way, we train the model by showing it examples from our data.\n",
    "5. Model Testing could be taken as previewing the exhibition. Right before you open the museum exhibition to the public, you are more than likely to have a last look if everything is looking fine. \n",
    "7. Model Deployment is the equivalent of opening the exhibition. Similar to you opening the exhibition to the public after testing it, in machine learning, the model is deployed for real-world use. Hence, it will be used to make predictions about trends, patterns in data, etc.\n",
    "\n",
    "**Group Discussion Highlights**\n",
    "\n",
    "If we use examples that are relevant to a person’s occupation or interests, they can understand Machine Learning more quickly. \n",
    "\n",
    "An additional suggestion was to explain the topic in a step-by-step way, since it is clearer and people would make more sense of the topic.\n",
    "\n",
    "**How the examples from Lectures 3 & 4 align with the workflow:**\n",
    "***The examples were also disscused with team members***\n",
    "\n",
    "Decision Tree Example\n",
    "\n",
    "The training data is the names of patients and whether or not they have been diagnosed with leukaemia. \n",
    "Based on this data, the decision tree algorithm creates a model that can predict whether a patient has leukaemia or not based on their name. \n",
    "When new data, in the form of a patient’s name, is inputted,  the model will output: “Does the patient have leukaemia? yes/no”.\n",
    "\n",
    "Linear Regression Example\n",
    "\n",
    "The example has previous mice weight and mice size as training data.  The linear regression algorithm works in the following way: the training data is used to predict a continuous value, and as a result, new mouse weight will be predicted. New data about mice will be used to predict their relative size/weight.\n",
    "\n",
    "Neural Neworks\n",
    "\n",
    "Old emails, marked as spam or not, are training data. The neural networks algorithm uses the data to predict if an email is spam or not. In the case of spam,  the output neuron will fire. Then, new emails - new data, and the model will tell which is spam and which is not.\n",
    "\n",
    "\n"
   ]
  },
  {
   "cell_type": "markdown",
   "id": "027e97d4",
   "metadata": {},
   "source": [
    "## Task 1-4: Framing the Problem\n",
    "\n",
    "In this notebook, we will be working with two datasets:\n",
    "\n",
    "1)\tTabular data consisting of information about houses in districts within the US state of California, and, \n",
    "2)\tImage pixel data, each image representing a digit handwritten by high school students and employees of the US Census Bureau. \n",
    "\n",
    "The first of these datasets will be used to **predict median housing prices for a given district**. The results of the prediction will be combined with other data to determine whether it is worth investing in a given district. \n",
    "\n",
    "The second of these datasets will be used to **classify hand written digits**. It was originally developed as a way of sorting out the handwritten US zip codes (similar to UK postcodes) at the post office. \n",
    "\n",
    "\n",
    "### Step 1: Understand how framing the problem affects data selection\n",
    "\n",
    "- The academic article [“Rethinking the field of automatic prediction of court decisions”](https://link.springer.com/article/10.1007/s10506-021-09306-3) by Medvedeva, Wieling & Vols (2023), to appreciate how, depending on the objectives, the characteristics of data and algorithm might differ. \n",
    "- Read the BBC article [“AI facial recognition: Campaigners and MPs call for ban”](https://www.bbc.co.uk/news/technology-67022005) to understand that the same data, depending on its use, can raise concern about AI. We will be discussing prediction court decisions further in Week 7.\n",
    "- In view of the above, write down your reflection on the importance of framing your problem precisely in a notebook markdown cell - not only to define the task properly, but to understand how your machine learning model will be used down the road. \n",
    "\n",
    "### Step 2: How to select your algorithm\n",
    "\n",
    "In Lecture 2, we discussed how machine learning can be divided into three types: Supervised, Unsupervised, and Reinforcement. Large part of this course is focused on supervised learning – in particular, in this notebook, we will explore this using examples of regression and classification.\n",
    "\n",
    "**To refresh your memory, read this short article from Codecademy** – [“Regression vs Classification”](https://www.codecademy.com/article/regression-vs-classification).\n",
    "\n",
    "- Discuss with your peer group whether regression or classification would fit better for predicting median housing prices.\n",
    "- Discuss with your peer group whether regression or classification would fit better for handwritten digit recognition.\n",
    "- Write down the results of the discussion. In particular, report on what you concluded after the discussion and why.\n",
    "\n",
    "### Step 3: Before Data Collection\n",
    "\n",
    "Once your problem is defined (e.g. predicting the median housing price of a district), you will need to collect a new data set appropriate for your task, and/or identify existing data sets that can be used for training your model. \n",
    "\n",
    "- Discuss with your peer group what kind of information about housing in a district you think would help predict the median housing price in the district.\n",
    "- Discuss how these decisions might depend on geographical and/or cultural differences and how the information you collect would already bias the data. \n",
    "\n",
    "**Note these down the results of the discussions in Steps 2 & 3 in a markdown cell below.** I have already created a markdown cell for your use - just double click the area to begin editing."
   ]
  },
  {
   "cell_type": "markdown",
   "id": "0e3715aa",
   "metadata": {},
   "source": [
    "***Markdown cell for discussions***\n",
    "**Task 1-4**\n",
    "**Step 1**\n",
    "\n",
    "Framing the problem precisely is very important for a machine-learning project. It is crucial not only for the data selection but for the success and usability of the model itself as well. Its main purpose is to define what the task is going to be and the ways it will be used. Neglecting this process can lead to many drawbacks such as wasted time, not reaching goals, and ultimately, a model that does not provide value. Hence, one must put a lot of effort into defining the question and gaining an understanding of the problem before moving on to data selection and model development.\n",
    "\n",
    "**Step 2**\n",
    "\n",
    "1. Since the median housing prices are continuous numerical values, and regression is well-suited for predicting continuous variables, we believe that it will be appropriate for this case. What is more, Regression tasks typically use metrics like Mean Absolute Error (MAE) or Root Mean Squared Error (RMSE) to evaluate model performance. These are good at measuring the accuracy of numerical predictions.\n",
    "2. In the case of handwritten digit recognition, each of the images needs to be classified into one of the ten digit categories. Usually, classification is \"the natural choice for problems with discrete categorical outcomes\". This is a classification task where the model outputs a class label.\n",
    "\n",
    "\n",
    "**Step 3**\n",
    "\n",
    "Factors That Could Help Predict Median Housing Price:\n",
    "1. Location and Geography\n",
    "2. Size and Type of Property\n",
    "3. Local Economy\n",
    "4. Historical Data\n",
    "5. School Quality\n",
    "6. Crime Rates\n",
    "7. Amenities and Services\n",
    "8. Property Condition\n",
    "9. Market Trends\n",
    "10. Cultural and Demographic Factors\n",
    "\n",
    "Considerations for Geographical and Cultural Differences:\n",
    "1. Local Variations: These may influence the housing price predictors, for example, how close a property to a beach might be a big factor in coastal regions, while this does not make any difference in landlocked areas.\n",
    "2. Cultural Preferences: These can impact house pricing if a certain cultural community prefer larger multi-generational homes. Hence, there will be a demand for specific property types.\n",
    "3. Economic conditions, job markets and income levels vary by region. This also leads to differences in housing affordability.\n",
    "4. Regulations and Zoning affect the types and sizes of available properties, in turn, this influences prices.\n",
    "\n",
    "Bias in Data Collection:\n",
    "1. Selection Bias is when the data collection is not representative of the entire district's housing market.\n",
    "2. Sampling Bias is when the data that is collected is not randomly sampled.\n",
    "3. Historical Bias is when the data is outdated but is used. This is biased since the data is used without accounting for changes in demographics, urban development, or economic shifts. \n"
   ]
  },
  {
   "cell_type": "markdown",
   "id": "4c9ae4ec",
   "metadata": {},
   "source": [
    "# Working with Data\n",
    "\n",
    "Overviews of machine learning and AI often make it seem as though the largest part of machine learning is in training the algorithm. This is misleading. In fact, [Forbes reported that about 80% of data science is related to data preparation](https://www.forbes.com/sites/gilpress/2016/03/23/data-preparation-most-time-consuming-least-enjoyable-data-science-task-survey-says/). This includes, among other things, data cleaning, re-scaling, and labelling.\n",
    "\n",
    "If you also include things like keeping track of what you did and why, storing and backing up data generated as well as the data used at the beginning, and recording the evaluation results, data exploration, interpretation, I would say that **95%** of machine learning is involved in **data management**. This can, in fact, be said to be a substantial part of achieving transparency, a corner stone of addressing the ethical concerns regarding AI and bias, fairness, data protection, explainability etc.\n",
    "\n",
    "So, let's get some data!"
   ]
  },
  {
   "cell_type": "markdown",
   "id": "c15b4f64",
   "metadata": {},
   "source": [
    "# Task 2: Getting Data\n",
    "\n",
    "Before anything else, you must get the data! There many ways you can get data. In previous labs, you have already seen that scikit-learn's datasets package has some datasets already available to you. You can also get data from a nuumber of places such as OECD, OpenML, Kaggle, individual repositories in GitHub. \n",
    "\n",
    "In reality, data is everywhere. In fact, artists who make use of AI often make their own datasets: for example, check out [Anna Ridler's shell images](https://annaridler.com/the-shell-record-2021), [Caroline Sinders' feminist dataset](https://carolinesinders.com/feminist-data-set/), and [Refik Anadol's coral images](https://refikanadol.com/works-old/artificial-realities-coral/). While these may be owned by the artists, it can inspire new ways of thinking about data.\n",
    "\n",
    "In this task we will look at something a little less artistic! &#x1F609;\n",
    "\n",
    "- **Example Tabular Data**: dataset comprising housing prices in California in the the United States. This dataset is available on the GitHub, courtesy of Aurelien Geron. \n",
    "- **Example Image Data**: MNIST dataset comprising images of handwritten digits. Handwritten digit recognition with the MNIST dataset is sometimes called the **\"Hello World!\" of machine learning**. \n",
    "\n",
    "We will use these datasets to carry out the prediction of "
   ]
  },
  {
   "cell_type": "markdown",
   "id": "656eba8c",
   "metadata": {},
   "source": [
    "## Task 2-1: Download the Data: Example Tabular Data\n",
    "\n",
    "The following code defines **function** called `load_housing_data()`. This function retrieves a compressed file avaialable at `https://github.com/ageron/data/raw/main/housing.tgz` and saves it in a folder `datasets` which is in the same folder as this notebook. This will be created if it does not exist. The code will also extract the contents in the folder `datasets`. "
   ]
  },
  {
   "cell_type": "code",
   "execution_count": 5,
   "id": "56ec696a",
   "metadata": {},
   "outputs": [],
   "source": [
    "from pathlib import Path\n",
    "import pandas as pd\n",
    "import tarfile\n",
    "import urllib.request\n",
    "\n",
    "def load_housing_data(): #defines a function that loads the housing data available as .tgz file on a github URL\n",
    "    tarball_path = Path(\"datasets/housing.tgz\") # where you will save your compressed data\n",
    "    if not tarball_path.is_file():\n",
    "        Path(\"datasets\").mkdir(parents=True, exist_ok=True) #create datasets folder if it does not exist\n",
    "        url = \"https://github.com/ageron/data/raw/main/housing.tgz\" # url of where you are getting your data from\n",
    "        urllib.request.urlretrieve(url, tarball_path) # gets the url content and saves it at location specified by tarball_path\n",
    "        with tarfile.open(tarball_path) as housing_tarball: # opens saved compressed file as housing_tarball\n",
    "            housing_tarball.extractall(path=\"datasets\") # extracts the compressed content to datasets folder\n",
    "    return pd.read_csv(Path(\"datasets/housing/housing.csv\")) #uses panadas to read the csv file from the extracted content\n",
    "\n",
    "housing = load_housing_data() #runsthe function defined above"
   ]
  },
  {
   "cell_type": "markdown",
   "id": "e678b056",
   "metadata": {},
   "source": [
    "### If you've already downloaded and extracted the compressed file - then the following is all you need"
   ]
  },
  {
   "cell_type": "code",
   "execution_count": 6,
   "id": "741051dd",
   "metadata": {},
   "outputs": [],
   "source": [
    "import pandas as pd\n",
    "from pathlib import Path\n",
    "\n",
    "housing = pd.read_csv(Path(\"datasets/housing/housing.csv\"))"
   ]
  },
  {
   "cell_type": "markdown",
   "id": "fc852dd0",
   "metadata": {},
   "source": [
    "## Take a Quick Look: housing data"
   ]
  },
  {
   "cell_type": "code",
   "execution_count": 7,
   "id": "e780f081",
   "metadata": {},
   "outputs": [
    {
     "name": "stdout",
     "output_type": "stream",
     "text": [
      "<class 'pandas.core.frame.DataFrame'>\n",
      "RangeIndex: 20640 entries, 0 to 20639\n",
      "Data columns (total 10 columns):\n",
      " #   Column              Non-Null Count  Dtype  \n",
      "---  ------              --------------  -----  \n",
      " 0   longitude           20640 non-null  float64\n",
      " 1   latitude            20640 non-null  float64\n",
      " 2   housing_median_age  20640 non-null  float64\n",
      " 3   total_rooms         20640 non-null  float64\n",
      " 4   total_bedrooms      20433 non-null  float64\n",
      " 5   population          20640 non-null  float64\n",
      " 6   households          20640 non-null  float64\n",
      " 7   median_income       20640 non-null  float64\n",
      " 8   median_house_value  20640 non-null  float64\n",
      " 9   ocean_proximity     20640 non-null  object \n",
      "dtypes: float64(9), object(1)\n",
      "memory usage: 1.6+ MB\n"
     ]
    }
   ],
   "source": [
    "housing.info()"
   ]
  },
  {
   "cell_type": "markdown",
   "id": "bb46ae03",
   "metadata": {},
   "source": [
    "The result above tells you how many attributes (e.g. longitude, latitude) characterise the dataset. How many are there? The data type float64 is a numerical data type. So, the table above also tells you how many attributes are not numerical. "
   ]
  },
  {
   "cell_type": "markdown",
   "id": "9b0762ab",
   "metadata": {},
   "source": [
    "The dataset has 10 attributes or columns in total. These attributes are longitude, latitude, housing_median_age, total_rooms, total_bedrooms, population, households, median_income, median_house_value, and ocean_proximity.\n",
    "\n",
    "9 are of the data type float64, which is a numerical data type. The attribute 'ocean_proximity', is data type object. Hence, it is a non-numerical attribute."
   ]
  },
  {
   "cell_type": "code",
   "execution_count": 8,
   "id": "86c0ad40",
   "metadata": {},
   "outputs": [
    {
     "data": {
      "text/plain": [
       "ocean_proximity\n",
       "<1H OCEAN     9136\n",
       "INLAND        6551\n",
       "NEAR OCEAN    2658\n",
       "NEAR BAY      2290\n",
       "ISLAND           5\n",
       "Name: count, dtype: int64"
      ]
     },
     "execution_count": 8,
     "metadata": {},
     "output_type": "execute_result"
    }
   ],
   "source": [
    "housing[\"ocean_proximity\"].value_counts() # tells you what values the column for `ocean_proximity` can take"
   ]
  },
  {
   "cell_type": "code",
   "execution_count": 9,
   "id": "fc4b5110",
   "metadata": {},
   "outputs": [
    {
     "data": {
      "image/png": "[encoded data removed]",
      "text/plain": [
       "<Figure size 864x576 with 9 Axes>"
      ]
     },
     "metadata": {
      "needs_background": "light"
     },
     "output_type": "display_data"
    }
   ],
   "source": [
    "housing.hist(bins=50, figsize=(12, 8))\n",
    "save_fig(\"attribute_histogram_plots\")  # extra code\n",
    "plt.show()"
   ]
  },
  {
   "cell_type": "markdown",
   "id": "5900bf86",
   "metadata": {},
   "source": [
    "Finally you can run `housing.describe()` to get a summay of the data set `housing`."
   ]
  },
  {
   "cell_type": "code",
   "execution_count": 10,
   "id": "c3bc88c1",
   "metadata": {},
   "outputs": [
    {
     "data": {
      "text/html": [
       "<div>\n",
       "<style scoped>\n",
       "    .dataframe tbody tr th:only-of-type {\n",
       "        vertical-align: middle;\n",
       "    }\n",
       "\n",
       "    .dataframe tbody tr th {\n",
       "        vertical-align: top;\n",
       "    }\n",
       "\n",
       "    .dataframe thead th {\n",
       "        text-align: right;\n",
       "    }\n",
       "</style>\n",
       "<table border=\"1\" class=\"dataframe\">\n",
       "  <thead>\n",
       "    <tr style=\"text-align: right;\">\n",
       "      <th></th>\n",
       "      <th>longitude</th>\n",
       "      <th>latitude</th>\n",
       "      <th>housing_median_age</th>\n",
       "      <th>total_rooms</th>\n",
       "      <th>total_bedrooms</th>\n",
       "      <th>population</th>\n",
       "      <th>households</th>\n",
       "      <th>median_income</th>\n",
       "      <th>median_house_value</th>\n",
       "    </tr>\n",
       "  </thead>\n",
       "  <tbody>\n",
       "    <tr>\n",
       "      <th>count</th>\n",
       "      <td>20640.000000</td>\n",
       "      <td>20640.000000</td>\n",
       "      <td>20640.000000</td>\n",
       "      <td>20640.000000</td>\n",
       "      <td>20433.000000</td>\n",
       "      <td>20640.000000</td>\n",
       "      <td>20640.000000</td>\n",
       "      <td>20640.000000</td>\n",
       "      <td>20640.000000</td>\n",
       "    </tr>\n",
       "    <tr>\n",
       "      <th>mean</th>\n",
       "      <td>-119.569704</td>\n",
       "      <td>35.631861</td>\n",
       "      <td>28.639486</td>\n",
       "      <td>2635.763081</td>\n",
       "      <td>537.870553</td>\n",
       "      <td>1425.476744</td>\n",
       "      <td>499.539680</td>\n",
       "      <td>3.870671</td>\n",
       "      <td>206855.816909</td>\n",
       "    </tr>\n",
       "    <tr>\n",
       "      <th>std</th>\n",
       "      <td>2.003532</td>\n",
       "      <td>2.135952</td>\n",
       "      <td>12.585558</td>\n",
       "      <td>2181.615252</td>\n",
       "      <td>421.385070</td>\n",
       "      <td>1132.462122</td>\n",
       "      <td>382.329753</td>\n",
       "      <td>1.899822</td>\n",
       "      <td>115395.615874</td>\n",
       "    </tr>\n",
       "    <tr>\n",
       "      <th>min</th>\n",
       "      <td>-124.350000</td>\n",
       "      <td>32.540000</td>\n",
       "      <td>1.000000</td>\n",
       "      <td>2.000000</td>\n",
       "      <td>1.000000</td>\n",
       "      <td>3.000000</td>\n",
       "      <td>1.000000</td>\n",
       "      <td>0.499900</td>\n",
       "      <td>14999.000000</td>\n",
       "    </tr>\n",
       "    <tr>\n",
       "      <th>25%</th>\n",
       "      <td>-121.800000</td>\n",
       "      <td>33.930000</td>\n",
       "      <td>18.000000</td>\n",
       "      <td>1447.750000</td>\n",
       "      <td>296.000000</td>\n",
       "      <td>787.000000</td>\n",
       "      <td>280.000000</td>\n",
       "      <td>2.563400</td>\n",
       "      <td>119600.000000</td>\n",
       "    </tr>\n",
       "    <tr>\n",
       "      <th>50%</th>\n",
       "      <td>-118.490000</td>\n",
       "      <td>34.260000</td>\n",
       "      <td>29.000000</td>\n",
       "      <td>2127.000000</td>\n",
       "      <td>435.000000</td>\n",
       "      <td>1166.000000</td>\n",
       "      <td>409.000000</td>\n",
       "      <td>3.534800</td>\n",
       "      <td>179700.000000</td>\n",
       "    </tr>\n",
       "    <tr>\n",
       "      <th>75%</th>\n",
       "      <td>-118.010000</td>\n",
       "      <td>37.710000</td>\n",
       "      <td>37.000000</td>\n",
       "      <td>3148.000000</td>\n",
       "      <td>647.000000</td>\n",
       "      <td>1725.000000</td>\n",
       "      <td>605.000000</td>\n",
       "      <td>4.743250</td>\n",
       "      <td>264725.000000</td>\n",
       "    </tr>\n",
       "    <tr>\n",
       "      <th>max</th>\n",
       "      <td>-114.310000</td>\n",
       "      <td>41.950000</td>\n",
       "      <td>52.000000</td>\n",
       "      <td>39320.000000</td>\n",
       "      <td>6445.000000</td>\n",
       "      <td>35682.000000</td>\n",
       "      <td>6082.000000</td>\n",
       "      <td>15.000100</td>\n",
       "      <td>500001.000000</td>\n",
       "    </tr>\n",
       "  </tbody>\n",
       "</table>\n",
       "</div>"
      ],
      "text/plain": [
       "          longitude      latitude  housing_median_age   total_rooms  \\\n",
       "count  20640.000000  20640.000000        20640.000000  20640.000000   \n",
       "mean    -119.569704     35.631861           28.639486   2635.763081   \n",
       "std        2.003532      2.135952           12.585558   2181.615252   \n",
       "min     -124.350000     32.540000            1.000000      2.000000   \n",
       "25%     -121.800000     33.930000           18.000000   1447.750000   \n",
       "50%     -118.490000     34.260000           29.000000   2127.000000   \n",
       "75%     -118.010000     37.710000           37.000000   3148.000000   \n",
       "max     -114.310000     41.950000           52.000000  39320.000000   \n",
       "\n",
       "       total_bedrooms    population    households  median_income  \\\n",
       "count    20433.000000  20640.000000  20640.000000   20640.000000   \n",
       "mean       537.870553   1425.476744    499.539680       3.870671   \n",
       "std        421.385070   1132.462122    382.329753       1.899822   \n",
       "min          1.000000      3.000000      1.000000       0.499900   \n",
       "25%        296.000000    787.000000    280.000000       2.563400   \n",
       "50%        435.000000   1166.000000    409.000000       3.534800   \n",
       "75%        647.000000   1725.000000    605.000000       4.743250   \n",
       "max       6445.000000  35682.000000   6082.000000      15.000100   \n",
       "\n",
       "       median_house_value  \n",
       "count        20640.000000  \n",
       "mean        206855.816909  \n",
       "std         115395.615874  \n",
       "min          14999.000000  \n",
       "25%         119600.000000  \n",
       "50%         179700.000000  \n",
       "75%         264725.000000  \n",
       "max         500001.000000  "
      ]
     },
     "execution_count": 10,
     "metadata": {},
     "output_type": "execute_result"
    }
   ],
   "source": [
    "housing.describe()"
   ]
  },
  {
   "cell_type": "markdown",
   "id": "24805732",
   "metadata": {},
   "source": [
    "At this point you should stop looking at the data until you have set aside test data. This is to prevent inadvertent bias creeping into the machine learning process."
   ]
  },
  {
   "cell_type": "markdown",
   "id": "ae81bc17",
   "metadata": {},
   "source": [
    "## Task 2-2: Download the Data: Example Image Data\n",
    "\n",
    "In contrast to tabular data, image data sets are not always read in using pandas. Technically you can do this (as the line below commented out suggests) but as there are no features human-friendly features (such as, median income etc.) - only pixel information, it does not always help to load it as a pandas dataframe, unless the model requires it to be so. Use the command `type` to see what data type `mnist` is - you can see that it is not a `pandas.core.frame.DataFrame`. Dataframes are not the preferred **data structure** for image data."
   ]
  },
  {
   "cell_type": "code",
   "execution_count": 11,
   "id": "ae8a9ac0",
   "metadata": {},
   "outputs": [],
   "source": [
    "from sklearn.datasets import fetch_openml\n",
    "import pandas as pd\n",
    "\n",
    "mnist = fetch_openml('mnist_784', as_frame=False, parser='auto')\n",
    "\n",
    "#mnist_dataframe = pd.DataFrame(data=mnist.data, columns=mnist.feature_names)"
   ]
  },
  {
   "cell_type": "markdown",
   "id": "2311961e",
   "metadata": {},
   "source": [
    "## Take a Quick Look: MNIST"
   ]
  },
  {
   "cell_type": "markdown",
   "id": "fe3e0e2e",
   "metadata": {},
   "source": [
    "The command `mnist.info()` will not work here, to get information about the dataset content, because it is not a pandas dataframe. However, since your dataset is part of the `sklearn.datasets` universe, similar tools as those used in the previous lab exercises apply: for example, the keyword `DECSR` - as demonstrated in the first code cell below. The `print` command can be used in conjunction to get some useful context of the dataset structue and origin. "
   ]
  },
  {
   "cell_type": "code",
   "execution_count": 12,
   "id": "f269f8bf",
   "metadata": {},
   "outputs": [
    {
     "name": "stdout",
     "output_type": "stream",
     "text": [
      "**Author**: Yann LeCun, Corinna Cortes, Christopher J.C. Burges  \n",
      "**Source**: [MNIST Website](http://yann.lecun.com/exdb/mnist/) - Date unknown  \n",
      "**Please cite**:  \n",
      "\n",
      "The MNIST database of handwritten digits with 784 features, raw data available at: http://yann.lecun.com/exdb/mnist/. It can be split in a training set of the first 60,000 examples, and a test set of 10,000 examples  \n",
      "\n",
      "It is a subset of a larger set available from NIST. The digits have been size-normalized and centered in a fixed-size image. It is a good database for people who want to try learning techniques and pattern recognition methods on real-world data while spending minimal efforts on preprocessing and formatting. The original black and white (bilevel) images from NIST were size normalized to fit in a 20x20 pixel box while preserving their aspect ratio. The resulting images contain grey levels as a result of the anti-aliasing technique used by the normalization algorithm. the images were centered in a 28x28 image by computing the center of mass of the pixels, and translating the image so as to position this point at the center of the 28x28 field.  \n",
      "\n",
      "With some classification methods (particularly template-based methods, such as SVM and K-nearest neighbors), the error rate improves when the digits are centered by bounding box rather than center of mass. If you do this kind of pre-processing, you should report it in your publications. The MNIST database was constructed from NIST's NIST originally designated SD-3 as their training set and SD-1 as their test set. However, SD-3 is much cleaner and easier to recognize than SD-1. The reason for this can be found on the fact that SD-3 was collected among Census Bureau employees, while SD-1 was collected among high-school students. Drawing sensible conclusions from learning experiments requires that the result be independent of the choice of training set and test among the complete set of samples. Therefore it was necessary to build a new database by mixing NIST's datasets.  \n",
      "\n",
      "The MNIST training set is composed of 30,000 patterns from SD-3 and 30,000 patterns from SD-1. Our test set was composed of 5,000 patterns from SD-3 and 5,000 patterns from SD-1. The 60,000 pattern training set contained examples from approximately 250 writers. We made sure that the sets of writers of the training set and test set were disjoint. SD-1 contains 58,527 digit images written by 500 different writers. In contrast to SD-3, where blocks of data from each writer appeared in sequence, the data in SD-1 is scrambled. Writer identities for SD-1 is available and we used this information to unscramble the writers. We then split SD-1 in two: characters written by the first 250 writers went into our new training set. The remaining 250 writers were placed in our test set. Thus we had two sets with nearly 30,000 examples each. The new training set was completed with enough examples from SD-3, starting at pattern # 0, to make a full set of 60,000 training patterns. Similarly, the new test set was completed with SD-3 examples starting at pattern # 35,000 to make a full set with 60,000 test patterns. Only a subset of 10,000 test images (5,000 from SD-1 and 5,000 from SD-3) is available on this site. The full 60,000 sample training set is available.\n",
      "\n",
      "Downloaded from openml.org.\n"
     ]
    }
   ],
   "source": [
    "print(mnist.DESCR)"
   ]
  },
  {
   "cell_type": "markdown",
   "id": "3c410e32",
   "metadata": {},
   "source": [
    "## Task 2-3: Review the data description above with your group.\n",
    "\n",
    "What is the size of each image?\n",
    "\n",
    "Examine how LeCunn, Cortes, and Burges reorganised the NIST data as MNIST. Note that they remixed the data in two ways to create different a training dataset and test dataset. What they did do? Why do you think they did this? Was it justified? \n",
    "\n",
    "Write down the results in a markdown cell below. I have already created a markdown cell below - just double click to edit the content."
   ]
  },
  {
   "cell_type": "markdown",
   "id": "55896634",
   "metadata": {},
   "source": [
    "***Mark Down cell for critique***\n",
    "\n",
    "**Image Size**\n",
    "\n",
    "Each image in the MNIST database is 28x28 pixels in size.\n",
    "\n",
    "**Reorganization of NIST Data into MNIST**\n",
    "\n",
    "LeCunn, Cortes, and Burges restructured the NIST data to create the MNIST dataset in two significant ways:\n",
    "\n",
    "1. They’ve combined data from SD-3 and SD-1. The MNIST training set includes 30,000 patterns from NIST's SD-3 and 30,000 patterns from SD-1. 5,000 patterns from each of these sources are in the test set. This approach is different compared to NIST’s original classification of SD-3 as a training set and SD-1 as a test set.\n",
    "2. LeCunn, Cortes, and Burges made sure that the writers of the training set and test set were distinct. That was possible because SD-1 was divided into two based on the writers. The first 250 contributed to the training set, while the remaining 250 to the test set. The training set was then completed with patterns from SD-3. \n",
    "\n",
    "**Reasons for the Reorganization**\n",
    "\n",
    "1. Diversity and Complexity: The SD-3 was way cleaner and easier to recognise than SD-1. The combining of the two datasets resulted in a greater variety of handwriting styles.  This made the dataset more challenging and versatile for machine-learning applications.\n",
    "2. Independence of Results:They made sure that the training and test sets were composed of patterns from different writers in order to make the learning experiments' results independent. This approach reduced the risk of overfitting to specific handwriting styles and improved the model's generalisation capabilities.\n",
    "\n",
    "**Justification**\n",
    "\n",
    "I can say that the reorganisation was justified. It aimed at creating a more representative dataset. The combining of patterns from different sources and ensuring writer disjointness ensured that the MNIST dataset is a more effective tool in the field of pattern recognition and handwriting analysis.\n",
    "\n",
    "\n"
   ]
  },
  {
   "cell_type": "markdown",
   "id": "f2d5fba0",
   "metadata": {},
   "source": [
    "### To see a full list of keys other than `DESCR` which is available to this dataset You can use the command `mnist.keys()` to see more keys available - run the code below."
   ]
  },
  {
   "cell_type": "code",
   "execution_count": 13,
   "id": "23a1d7e8",
   "metadata": {},
   "outputs": [
    {
     "data": {
      "text/plain": [
       "dict_keys(['data', 'target', 'frame', 'categories', 'feature_names', 'target_names', 'DESCR', 'details', 'url'])"
      ]
     },
     "execution_count": 13,
     "metadata": {},
     "output_type": "execute_result"
    }
   ],
   "source": [
    "mnist.keys()"
   ]
  },
  {
   "cell_type": "markdown",
   "id": "ed70b9bc",
   "metadata": {},
   "source": [
    "## Task 2-4: Identifying the Dimension of Images\n",
    "\n",
    "You may recognise some of the keys listed above for `mnist.keys()`. For example, you should have seen the key `data` and `target` already in earlier labs. The former will return the image pixel data, while the `target` key will return the labels (the categories or classification) assigned to each of these images. \n",
    "\n",
    "- Create a code cell below to use these keys in Python, to use the `shape` command to verify the number of images in the dataset and how many features (e.g. pixels) represents the image. Print out the shape and the target categories. \n",
    "\n",
    "I have created a cell for you below with the data and target assigned to the **variables** `images` and `categories`. Add a line to print out the shape of the images and the list a assigned categories. Single click on the area to start editing. "
   ]
  },
  {
   "cell_type": "code",
   "execution_count": 14,
   "id": "1ae51ee3",
   "metadata": {},
   "outputs": [
    {
     "name": "stdout",
     "output_type": "stream",
     "text": [
      "Shape of images: (70000, 784)\n",
      "Categories: {'3', '0', '2', '1', '4', '6', '9', '8', '5', '7'}\n"
     ]
    }
   ],
   "source": [
    "# cell for python code \n",
    "\n",
    "images = mnist.data\n",
    "categories = mnist.target\n",
    "\n",
    "# Print the shape of images\n",
    "print(\"Shape of images:\", images.shape)\n",
    "\n",
    "# Print the unique categories\n",
    "print(\"Categories:\", set(categories))\n"
   ]
  },
  {
   "cell_type": "markdown",
   "id": "7a8f61e6",
   "metadata": {},
   "source": [
    "Let's take a look at one of the digits in the dataset - the first item."
   ]
  },
  {
   "cell_type": "code",
   "execution_count": 15,
   "id": "eb52d34a",
   "metadata": {},
   "outputs": [],
   "source": [
    "#extra code to visualise the image of digits\n",
    "\n",
    "import matplotlib.pyplot as plt\n",
    "\n",
    "## the code below defines a function plot_digit. The initial key work `def` stands for define, followed by function name.\n",
    "## the function take one argument image_data in a parenthesis. This is followed by a colon. \n",
    "## Each line below that will be executed when the function is used. \n",
    "## This cell only defines the function. The next cell uses the function.\n",
    "\n",
    "def plot_digit(image_data): # defines a function so that you need not type all the lines below everytime you view an image\n",
    "    image = image_data.reshape(28, 28) #reshapes the data into a 28 x 28 image - before it was a string of 784 numbers\n",
    "    plt.imshow(image, cmap=\"binary\") # show the image in black and white - binary.\n",
    "    plt.axis(\"off\") # ensures no x and y axes are displayed"
   ]
  },
  {
   "cell_type": "code",
   "execution_count": 16,
   "id": "6f02abd3",
   "metadata": {},
   "outputs": [
    {
     "data": {
      "image/png": "[encoded data removed]",
      "text/plain": [
       "<Figure size 432x288 with 1 Axes>"
      ]
     },
     "metadata": {
      "needs_background": "light"
     },
     "output_type": "display_data"
    }
   ],
   "source": [
    "# visualise a selected digit with the following code\n",
    "\n",
    "some_digit = mnist.data[0]\n",
    "plot_digit(some_digit)\n",
    "plt.show()"
   ]
  },
  {
   "cell_type": "markdown",
   "id": "65e690ce",
   "metadata": {},
   "source": [
    "# Task 3: Setting Aside the Test Data\n",
    "\n",
    "To set aside test data, you need to take shuffled and stratified samples. \n",
    "\n",
    "## Why Do We Shuffle\n",
    "\n",
    "The dataset you are working with could be ordered in a specific way (for example, all the data points in a specific class all at the top). If you select a percentage of 20% from the top, you could get data points in only specific classes. By shuffling we can avoid this. As it happens `sklearn` has a nifty function to allow you to split the data inclusive of splitting. This function is called `train_test_split`. See it in action below, using the housing data."
   ]
  },
  {
   "cell_type": "code",
   "execution_count": 17,
   "id": "43c0ba19",
   "metadata": {},
   "outputs": [],
   "source": [
    "from sklearn.model_selection import train_test_split\n",
    "\n",
    "tratio = 0.2 #to get 20% for testing and 80% for training\n",
    "\n",
    "train_set, test_set = train_test_split(housing, test_size=tratio, random_state=42) \n",
    "## assigning a number to random_state means that everytime you run this you get the same split, unless you change the data."
   ]
  },
  {
   "cell_type": "markdown",
   "id": "6040547c",
   "metadata": {},
   "source": [
    "## Why Do We Stratify\n",
    "\n",
    "If the dataset is skewed so that it contains more samples of a specific kind more than others, sampling randomly will result in your test data not representing the population you would like to test. An example of the estimated probability of getting a bad sample that does not reflect the actual population is provided below. The US population ratio of females in the census is 51.1%. The following is the probability of getting a sample with less than 48.5% or greater than 53.5% females if you take a random sample withoput stratifying: approximately **10.71%** "
   ]
  },
  {
   "cell_type": "code",
   "execution_count": 18,
   "id": "40e27820",
   "metadata": {},
   "outputs": [
    {
     "data": {
      "text/plain": [
       "0.1071"
      ]
     },
     "execution_count": 18,
     "metadata": {},
     "output_type": "execute_result"
    }
   ],
   "source": [
    "# extra code – shows another way to estimate the probability of bad sample\n",
    "\n",
    "import numpy as np\n",
    "\n",
    "sample_size = 1000\n",
    "ratio_female = 0.511\n",
    "\n",
    "np.random.seed(42)\n",
    "\n",
    "samples = (np.random.rand(100_000, sample_size) < ratio_female).sum(axis=1)\n",
    "((samples < 485) | (samples > 535)).mean()"
   ]
  },
  {
   "cell_type": "markdown",
   "id": "38b4372c",
   "metadata": {},
   "source": [
    "## Task 3.1: Stratified Sample: Housing Data\n",
    "\n",
    "The following code adds a column to the `housing` data to create bins of data according to interval brackets of median income of districts. This is a first step to creating a stratified sample across different income brackets."
   ]
  },
  {
   "cell_type": "code",
   "execution_count": 19,
   "id": "75b0cd11",
   "metadata": {},
   "outputs": [],
   "source": [
    "import numpy as np\n",
    "import pandas as pd\n",
    "\n",
    "housing[\"income_cat\"] = pd.cut(housing[\"median_income\"],\n",
    "                               bins=[0., 1.5, 3.0, 4.5, 6., np.inf],\n",
    "                               labels=[1, 2, 3, 4, 5])"
   ]
  },
  {
   "cell_type": "markdown",
   "id": "1ed7fbfe",
   "metadata": {},
   "source": [
    "The following code uses the above bins to implement startified sampling - that is, it will randomly sample 20% (because we set test ratio `tratio` to 0.2) from each income bracket defined above."
   ]
  },
  {
   "cell_type": "code",
   "execution_count": 20,
   "id": "c69cc591",
   "metadata": {},
   "outputs": [],
   "source": [
    "from sklearn.model_selection import train_test_split\n",
    "\n",
    "tratio = 0.2 #to get 20% for testing and 80% for training\n",
    "\n",
    "strat_train_set, strat_test_set = train_test_split(housing, test_size=tratio, stratify=housing[\"income_cat\"], random_state=42)"
   ]
  },
  {
   "cell_type": "markdown",
   "id": "19d7fcdc",
   "metadata": {},
   "source": [
    "The code below prints out the proportion of each income category in the stratified test set above."
   ]
  },
  {
   "cell_type": "code",
   "execution_count": 21,
   "id": "57103983",
   "metadata": {},
   "outputs": [
    {
     "data": {
      "text/plain": [
       "income_cat\n",
       "3    0.350533\n",
       "2    0.318798\n",
       "4    0.176357\n",
       "5    0.114341\n",
       "1    0.039971\n",
       "Name: count, dtype: float64"
      ]
     },
     "execution_count": 21,
     "metadata": {},
     "output_type": "execute_result"
    }
   ],
   "source": [
    "strat_test_set[\"income_cat\"].value_counts() / len(strat_test_set) #Prints out in order of the highest proportion first."
   ]
  },
  {
   "cell_type": "markdown",
   "id": "b0b1d994",
   "metadata": {},
   "source": [
    "Note the attribute `random_state`. Setting this to a specific number like 42 **keeps the split the same everytime you run the code**. Keep in mind that it will not stay the same if you change the underlying dataset (e.g. adding more). \n",
    "\n",
    "Discuss with your peer group, why a stratified sample based on median income is reasonable. Create a markdown cell below to report on the results of the discussion. I have already create one below, so just double click to edit."
   ]
  },
  {
   "cell_type": "markdown",
   "id": "6718cca3",
   "metadata": {},
   "source": [
    "***Markdown cell***\n",
    "\n",
    "**Discussion on Stratified Sampling Based on Median Income**\n",
    "***Reason for Choosing Stratified Sampling***\n",
    "1. This type of sampling secures that every subgroup of the population is represented correctly in the sample. If the strata are based on a variable like median income, it can capture the variability across different income levels in the dataset.\n",
    "2. Another reason is the reduction in sampling bias. Since Median income is a factor that influences other variables, stratifying based on this ensures that income-related trends are not overlooked due to underrepresentation in the sample.\n",
    "\n",
    "***Advantages in the Context of Median Income***\n",
    "1. In datasets that are somehow related to housing, economics or social sciences median income is a crucial predictor of other variables. Stratifying by median income provides that the trained on this data model is capable of capturing the impact of income on other variables.\n",
    "2. Stratifying the data based on median income, also ensures that all economic segments of the population are represented.\n",
    "\n",
    "***Considerations and Potential Limitations***\n",
    "1.  If strata are chosen poorly, overrepresentation or underrepresentation of key income groups may occur.\n",
    "2. Some variables are likely to vary over time. Then, the stratification needs to be reconsidered, so it still provides a representative sample."
   ]
  },
  {
   "cell_type": "code",
   "execution_count": null,
   "id": "b7aad1bd",
   "metadata": {},
   "outputs": [],
   "source": []
  },
  {
   "cell_type": "code",
   "execution_count": 22,
   "id": "d55a6a4f",
   "metadata": {},
   "outputs": [
    {
     "data": {
      "text/plain": [
       "numpy.ndarray"
      ]
     },
     "execution_count": 22,
     "metadata": {},
     "output_type": "execute_result"
    }
   ],
   "source": [
    "type(mnist.data)"
   ]
  },
  {
   "cell_type": "markdown",
   "id": "270dbdb6",
   "metadata": {},
   "source": [
    "## Task 3.2: Setting Aside Test Set for Image Data \n",
    "\n",
    "In the case of `mnist` the data is already cleaned prepared, scaled and ordered, so that the training data is the first 60,000 images, followed by the test data which is the last 10,000 images. So you need not shuffle and stratify nor use `train_test_split`. Instead, you can use the following code to set aside your test dataset. The data type of `mnist.data` is `numpy.ndarray` (you can verify this with the command `type`). \n",
    "- By using a colon and then 60000 in a square bracket after `mnist.data`, you are telling the computer that you want all the items up until the 60000th item (not including the 60000th) in the array `mnist.data`. We assign this to the **variable** `X_train`. \n",
    "- Likewise, the first 60000 categories corresponding the the first 60000 images are assigned to the **variable** `y_train`. \n",
    "- By using a colon after 60000, you are telling the computer you would like all the items from the 60000th onwards.\n",
    "\n",
    "It is machine learning convention to use upper case `X` for variable names associated with data and lower case `y` in the variable names associated to labels (or categories/classes)."
   ]
  },
  {
   "cell_type": "code",
   "execution_count": 23,
   "id": "3ab94357",
   "metadata": {},
   "outputs": [],
   "source": [
    "X_train = mnist.data[:60000]\n",
    "y_train = mnist.target[:60000]\n",
    "\n",
    "X_test = mnist.data[60000:]\n",
    "y_test = mnist.target[60000:]"
   ]
  },
  {
   "cell_type": "markdown",
   "id": "4fc35af8",
   "metadata": {},
   "source": [
    "# Task 4: Selecting and Training a Model\n",
    "\n",
    "You are finally ready to select and train your model. In the following code, we will use linear **regression for the prediction of district housing prices**, and a **convolutional neural network** for classification of hand written digits. For linear regression, we will use `Scikit-Learn`. For the convolutional neural networks we will use the `tensorflow` library with `keras`. Regardless of the model, the general flow is similar:  \n",
    "\n",
    "- Import the model from the relevant library. \n",
    "- Create an untrained model instance. \n",
    "- Fit the model to your training data.\n",
    "\n",
    "## Task 4-1: Housing Data and Linear Regression\n",
    "\n",
    "With linear regression, you need data, whose values are continuous - not discrete values such as categories. Note that it is not enough for the values to be numbers, which can also be categories (for example, your place in a queue is a number but is never a fraction like 1.33). The feature `income_cat` is another category expressed as a number. \n",
    "\n",
    "Before doing anything else, let's assign a copy of the stratified training set we created earlier to the variable `housing`. You should always work with copies of data and never look at the test set in case we inadvertently use information in the test to improve the performance (**data snooping bias**).\n",
    "\n",
    "To do this use the following code."
   ]
  },
  {
   "cell_type": "code",
   "execution_count": 24,
   "id": "9b6cbdb3",
   "metadata": {},
   "outputs": [],
   "source": [
    "housing = strat_train_set.copy()"
   ]
  },
  {
   "cell_type": "markdown",
   "id": "90f59211",
   "metadata": {},
   "source": [
    "### Step 1: Checking Correlations: Training Set\n",
    "\n",
    "Linear regression in essence works by picking up on correlations between features. So it can be useful to explore the correlations especially between the target value you are trying to predict `median_house_value` and the other features in the dataset, e.g. `median_income`.\n",
    "\n",
    "The training set we have is of type `pandas.DataFrame`.  For pandas, dataframes have the function `corr` which calculates the correlations for you. The code is below - first it calculates all the correlations between all the pairs of features and saves it in variable `corr_matrix`. \n",
    "\n",
    "We can take a look at correlations for `median_house_value` by using that feature name in a square bracket (**with quotation marks!**). the last part `sort_values(ascending=False)` sorts the correlation to display it in descending order of correlation (that is, most correlated fetures are listed first)."
   ]
  },
  {
   "cell_type": "code",
   "execution_count": 25,
   "id": "4767a968",
   "metadata": {},
   "outputs": [
    {
     "data": {
      "text/plain": [
       "median_house_value    1.000000\n",
       "median_income         0.688380\n",
       "total_rooms           0.137455\n",
       "housing_median_age    0.102175\n",
       "households            0.071426\n",
       "total_bedrooms        0.054635\n",
       "population           -0.020153\n",
       "longitude            -0.050859\n",
       "latitude             -0.139584\n",
       "Name: median_house_value, dtype: float64"
      ]
     },
     "execution_count": 25,
     "metadata": {},
     "output_type": "execute_result"
    }
   ],
   "source": [
    "corr_matrix = housing.corr(numeric_only=True) # argument is so that it only calculates for numeric value features\n",
    "corr_matrix[\"median_house_value\"].sort_values(ascending=False)"
   ]
  },
  {
   "cell_type": "markdown",
   "id": "e741e0d8",
   "metadata": {},
   "source": [
    "### Step 2: Visualise the Correlations\n",
    "\n",
    "Pandas also can visualise these correlations as a graph for you. In the code below, we have selected four features (see the variable with that name), to 4 x 4 grid of graphs."
   ]
  },
  {
   "cell_type": "code",
   "execution_count": 26,
   "id": "1b7facae",
   "metadata": {},
   "outputs": [
    {
     "data": {
      "image/png": "[encoded data removed]",
      "text/plain": [
       "<Figure size 864x576 with 16 Axes>"
      ]
     },
     "metadata": {
      "needs_background": "light"
     },
     "output_type": "display_data"
    }
   ],
   "source": [
    "from pandas.plotting import scatter_matrix\n",
    "features = [\"median_house_value\", \"median_income\", \"total_rooms\",\n",
    "              \"housing_median_age\"]\n",
    "scatter_matrix(housing[features], figsize=(12, 8))\n",
    "#save_fig(\"scatter_matrix_plot\")  \n",
    "#The line above is extra code you can uncomment (remove the hash at the begining) to save the image.\n",
    "#But, to use this, make sure you ran the code at the beginning of this notebook defining the save_fig function\n",
    "plt.show()"
   ]
  },
  {
   "cell_type": "markdown",
   "id": "94c4e919",
   "metadata": {},
   "source": [
    "### Step 3: Separate the Target Labels from Your Data\n",
    "\n",
    "In any machine learning task, you need to provide the data and the target Label separately to the machine learning algorithm. Otherwise, they have no way of knowing which of the features is the target label. In our scenario, the label for the housing data is the `median_house_value`. When your data is in a padas dataframe format, you can simply 1) drop the column with the label to get the data, and, 2) get the column for the target label, to get the labels."
   ]
  },
  {
   "cell_type": "code",
   "execution_count": 27,
   "id": "610bec83",
   "metadata": {},
   "outputs": [],
   "source": [
    "housing = strat_train_set.drop(\"median_house_value\", axis=1) ## 1)\n",
    "housing_labels = strat_train_set[\"median_house_value\"].copy() ## 2)"
   ]
  },
  {
   "cell_type": "markdown",
   "id": "57a9e4b6",
   "metadata": {},
   "source": [
    "### Step 4: Look for Missing Values in the Data\n",
    "\n",
    "When working with tabular data, it is quite common to find that some rows are missing values for some of the columns. If you run the `info` command for dataframes (we've done this in [Task 2-1](#Task-2-1:-Download-the-Data:-Example-Tabular-Data) above!). \n",
    "\n",
    "- Running the code will show the total number of entries. By comparing that number to the number of Non-Null entries for each feature (e.g. `total_bedrooms`) you can see whether there are missing values. \n",
    "- If there are no missing values, these numbers should be the same!\n",
    "\n",
    "How many values are missing for the number of `total_bedrooms'? "
   ]
  },
  {
   "cell_type": "code",
   "execution_count": 28,
   "id": "3bffc540",
   "metadata": {},
   "outputs": [
    {
     "name": "stdout",
     "output_type": "stream",
     "text": [
      "<class 'pandas.core.frame.DataFrame'>\n",
      "Index: 16512 entries, 13096 to 19888\n",
      "Data columns (total 10 columns):\n",
      " #   Column              Non-Null Count  Dtype   \n",
      "---  ------              --------------  -----   \n",
      " 0   longitude           16512 non-null  float64 \n",
      " 1   latitude            16512 non-null  float64 \n",
      " 2   housing_median_age  16512 non-null  float64 \n",
      " 3   total_rooms         16512 non-null  float64 \n",
      " 4   total_bedrooms      16344 non-null  float64 \n",
      " 5   population          16512 non-null  float64 \n",
      " 6   households          16512 non-null  float64 \n",
      " 7   median_income       16512 non-null  float64 \n",
      " 8   ocean_proximity     16512 non-null  object  \n",
      " 9   income_cat          16512 non-null  category\n",
      "dtypes: category(1), float64(8), object(1)\n",
      "memory usage: 1.3+ MB\n"
     ]
    }
   ],
   "source": [
    "housing.info()"
   ]
  },
  {
   "cell_type": "markdown",
   "id": "31181096",
   "metadata": {},
   "source": [
    "### Step 5: Handling Missing Values\n",
    "\n",
    "To handle the missing values, you need a code in place to tell the machine what to do if there are missing values. In-depth discussion of handling missing values is beyond the scope of this course, but there are three common ways of handing these:\n",
    "\n",
    "- (Option 1) Drop the row with missing value. This causes you to lose data points. In our scenario with the housing data, 168 rows will be removed.\n",
    "- (Option 2) Drop the column with missing values. This causes you to lose one of your features.\n",
    "- (Option 3) Fill in the missing value with some value such as the median or mean or fixed value that makes sense. This is called **imputing**.\n",
    "\n",
    "Depending on which approach you take, the performance of your AI could be different. Also, note that, **with Option 1, you will have to remove the corresponding rows in `housing_labels` before using these in a machine learning task**. Following are codes from each of these approaches. Read the comments included in the code for understanding what each cell is doing."
   ]
  },
  {
   "cell_type": "code",
   "execution_count": 29,
   "id": "b0ee6f1d",
   "metadata": {},
   "outputs": [
    {
     "name": "stdout",
     "output_type": "stream",
     "text": [
      "<class 'pandas.core.frame.DataFrame'>\n",
      "Index: 16344 entries, 13096 to 19888\n",
      "Data columns (total 10 columns):\n",
      " #   Column              Non-Null Count  Dtype   \n",
      "---  ------              --------------  -----   \n",
      " 0   longitude           16344 non-null  float64 \n",
      " 1   latitude            16344 non-null  float64 \n",
      " 2   housing_median_age  16344 non-null  float64 \n",
      " 3   total_rooms         16344 non-null  float64 \n",
      " 4   total_bedrooms      16344 non-null  float64 \n",
      " 5   population          16344 non-null  float64 \n",
      " 6   households          16344 non-null  float64 \n",
      " 7   median_income       16344 non-null  float64 \n",
      " 8   ocean_proximity     16344 non-null  object  \n",
      " 9   income_cat          16344 non-null  category\n",
      "dtypes: category(1), float64(8), object(1)\n",
      "memory usage: 1.3+ MB\n"
     ]
    }
   ],
   "source": [
    "# this is the code for Option 1 above. \n",
    "housing_option1 = housing.copy() #This makes a copy of the data to variable housing_option1, so that we don't mess up the original data.\n",
    "\n",
    "housing_option1.dropna(subset=[\"total_bedrooms\"], inplace=True)  # option 1 - dropping the rows where total_bedroom is missing values.\n",
    "\n",
    "housing_option1.info() #look for missing values after rows have been dropped"
   ]
  },
  {
   "cell_type": "code",
   "execution_count": 30,
   "id": "e4e11d2f",
   "metadata": {},
   "outputs": [
    {
     "name": "stdout",
     "output_type": "stream",
     "text": [
      "<class 'pandas.core.frame.DataFrame'>\n",
      "Index: 16512 entries, 13096 to 19888\n",
      "Data columns (total 9 columns):\n",
      " #   Column              Non-Null Count  Dtype   \n",
      "---  ------              --------------  -----   \n",
      " 0   longitude           16512 non-null  float64 \n",
      " 1   latitude            16512 non-null  float64 \n",
      " 2   housing_median_age  16512 non-null  float64 \n",
      " 3   total_rooms         16512 non-null  float64 \n",
      " 4   population          16512 non-null  float64 \n",
      " 5   households          16512 non-null  float64 \n",
      " 6   median_income       16512 non-null  float64 \n",
      " 7   ocean_proximity     16512 non-null  object  \n",
      " 8   income_cat          16512 non-null  category\n",
      "dtypes: category(1), float64(7), object(1)\n",
      "memory usage: 1.1+ MB\n"
     ]
    }
   ],
   "source": [
    "housing_option2 = housing.copy() #This makes a copy of the data to variable housing_option1, so that we don't mess up the original data.\n",
    "\n",
    "housing_option2.drop(\"total_bedrooms\", axis=1, inplace=True)  # option 2 - dropping the column associated with total_bedrooms\n",
    "\n",
    "housing_option2.info() # checking for missing values in the new data after column has been dropped"
   ]
  },
  {
   "cell_type": "code",
   "execution_count": 31,
   "id": "74dba58c",
   "metadata": {},
   "outputs": [
    {
     "name": "stdout",
     "output_type": "stream",
     "text": [
      "<class 'pandas.core.frame.DataFrame'>\n",
      "Index: 16512 entries, 13096 to 19888\n",
      "Data columns (total 10 columns):\n",
      " #   Column              Non-Null Count  Dtype   \n",
      "---  ------              --------------  -----   \n",
      " 0   longitude           16512 non-null  float64 \n",
      " 1   latitude            16512 non-null  float64 \n",
      " 2   housing_median_age  16512 non-null  float64 \n",
      " 3   total_rooms         16512 non-null  float64 \n",
      " 4   total_bedrooms      16512 non-null  float64 \n",
      " 5   population          16512 non-null  float64 \n",
      " 6   households          16512 non-null  float64 \n",
      " 7   median_income       16512 non-null  float64 \n",
      " 8   ocean_proximity     16512 non-null  object  \n",
      " 9   income_cat          16512 non-null  category\n",
      "dtypes: category(1), float64(8), object(1)\n",
      "memory usage: 1.3+ MB\n"
     ]
    }
   ],
   "source": [
    "housing_option3 = housing.copy() #This makes a copy of the data to variable housing_option1, so that we don't mess up the original data.\n",
    "\n",
    "median = housing[\"total_bedrooms\"].median() # calculating mean of the value for total_bedrooms to use in filling missing values\n",
    "housing_option3[\"total_bedrooms\"].fillna(median, inplace=True)  # option 3 - filling missing values with the median\n",
    "\n",
    "housing_option3.info()"
   ]
  },
  {
   "cell_type": "markdown",
   "id": "0cf9695a",
   "metadata": {},
   "source": [
    "#### You can also use `SimpleImputer` from the `sklearn.impute` library to fill missing values with the median"
   ]
  },
  {
   "cell_type": "code",
   "execution_count": 32,
   "id": "2b28f434",
   "metadata": {},
   "outputs": [],
   "source": [
    "from sklearn.impute import SimpleImputer\n",
    "\n",
    "imputer = SimpleImputer(strategy=\"median\") # initialises the imputer\n",
    "\n",
    "housing_num = housing.select_dtypes(include=[np.number]) ## includes only numeric features in the data\n",
    "\n",
    "imputer.fit(housing_num) #calculates the median for each numeric feature so that the imputer can use them\n",
    "\n",
    "housing_num[:] = imputer.transform(housing_num) # the imputer uses the median to fill the missing values and saves the result in variable X"
   ]
  },
  {
   "cell_type": "markdown",
   "id": "32c1a0b1",
   "metadata": {},
   "source": [
    "### Step 6: Scaling Your Features\n",
    "\n",
    "Machine learning algorithms learn better when similar scales are used across all the features. For example, the numeric range of values for `total_rooms` will be totally different from `median_income`.\n",
    "\n",
    "Test this with he **min** and **max** values after running the pandas `describe()` function. Code below."
   ]
  },
  {
   "cell_type": "code",
   "execution_count": 33,
   "id": "ead8cda8",
   "metadata": {},
   "outputs": [
    {
     "data": {
      "text/html": [
       "<div>\n",
       "<style scoped>\n",
       "    .dataframe tbody tr th:only-of-type {\n",
       "        vertical-align: middle;\n",
       "    }\n",
       "\n",
       "    .dataframe tbody tr th {\n",
       "        vertical-align: top;\n",
       "    }\n",
       "\n",
       "    .dataframe thead th {\n",
       "        text-align: right;\n",
       "    }\n",
       "</style>\n",
       "<table border=\"1\" class=\"dataframe\">\n",
       "  <thead>\n",
       "    <tr style=\"text-align: right;\">\n",
       "      <th></th>\n",
       "      <th>longitude</th>\n",
       "      <th>latitude</th>\n",
       "      <th>housing_median_age</th>\n",
       "      <th>total_rooms</th>\n",
       "      <th>total_bedrooms</th>\n",
       "      <th>population</th>\n",
       "      <th>households</th>\n",
       "      <th>median_income</th>\n",
       "    </tr>\n",
       "  </thead>\n",
       "  <tbody>\n",
       "    <tr>\n",
       "      <th>count</th>\n",
       "      <td>16512.000000</td>\n",
       "      <td>16512.000000</td>\n",
       "      <td>16512.000000</td>\n",
       "      <td>16512.000000</td>\n",
       "      <td>16512.000000</td>\n",
       "      <td>16512.000000</td>\n",
       "      <td>16512.000000</td>\n",
       "      <td>16512.000000</td>\n",
       "    </tr>\n",
       "    <tr>\n",
       "      <th>mean</th>\n",
       "      <td>-119.573125</td>\n",
       "      <td>35.637746</td>\n",
       "      <td>28.577156</td>\n",
       "      <td>2639.402798</td>\n",
       "      <td>537.881298</td>\n",
       "      <td>1425.513929</td>\n",
       "      <td>499.990189</td>\n",
       "      <td>3.870428</td>\n",
       "    </tr>\n",
       "    <tr>\n",
       "      <th>std</th>\n",
       "      <td>2.000624</td>\n",
       "      <td>2.133294</td>\n",
       "      <td>12.585738</td>\n",
       "      <td>2185.287466</td>\n",
       "      <td>421.831667</td>\n",
       "      <td>1094.795467</td>\n",
       "      <td>382.865787</td>\n",
       "      <td>1.891936</td>\n",
       "    </tr>\n",
       "    <tr>\n",
       "      <th>min</th>\n",
       "      <td>-124.350000</td>\n",
       "      <td>32.550000</td>\n",
       "      <td>1.000000</td>\n",
       "      <td>2.000000</td>\n",
       "      <td>1.000000</td>\n",
       "      <td>3.000000</td>\n",
       "      <td>1.000000</td>\n",
       "      <td>0.499900</td>\n",
       "    </tr>\n",
       "    <tr>\n",
       "      <th>25%</th>\n",
       "      <td>-121.800000</td>\n",
       "      <td>33.930000</td>\n",
       "      <td>18.000000</td>\n",
       "      <td>1447.000000</td>\n",
       "      <td>297.000000</td>\n",
       "      <td>787.000000</td>\n",
       "      <td>279.000000</td>\n",
       "      <td>2.562500</td>\n",
       "    </tr>\n",
       "    <tr>\n",
       "      <th>50%</th>\n",
       "      <td>-118.510000</td>\n",
       "      <td>34.260000</td>\n",
       "      <td>29.000000</td>\n",
       "      <td>2125.000000</td>\n",
       "      <td>434.000000</td>\n",
       "      <td>1167.000000</td>\n",
       "      <td>408.000000</td>\n",
       "      <td>3.538500</td>\n",
       "    </tr>\n",
       "    <tr>\n",
       "      <th>75%</th>\n",
       "      <td>-118.010000</td>\n",
       "      <td>37.720000</td>\n",
       "      <td>37.000000</td>\n",
       "      <td>3154.000000</td>\n",
       "      <td>642.000000</td>\n",
       "      <td>1726.000000</td>\n",
       "      <td>603.000000</td>\n",
       "      <td>4.750000</td>\n",
       "    </tr>\n",
       "    <tr>\n",
       "      <th>max</th>\n",
       "      <td>-114.490000</td>\n",
       "      <td>41.950000</td>\n",
       "      <td>52.000000</td>\n",
       "      <td>39320.000000</td>\n",
       "      <td>6210.000000</td>\n",
       "      <td>16305.000000</td>\n",
       "      <td>5358.000000</td>\n",
       "      <td>15.000100</td>\n",
       "    </tr>\n",
       "  </tbody>\n",
       "</table>\n",
       "</div>"
      ],
      "text/plain": [
       "          longitude      latitude  housing_median_age   total_rooms  \\\n",
       "count  16512.000000  16512.000000        16512.000000  16512.000000   \n",
       "mean    -119.573125     35.637746           28.577156   2639.402798   \n",
       "std        2.000624      2.133294           12.585738   2185.287466   \n",
       "min     -124.350000     32.550000            1.000000      2.000000   \n",
       "25%     -121.800000     33.930000           18.000000   1447.000000   \n",
       "50%     -118.510000     34.260000           29.000000   2125.000000   \n",
       "75%     -118.010000     37.720000           37.000000   3154.000000   \n",
       "max     -114.490000     41.950000           52.000000  39320.000000   \n",
       "\n",
       "       total_bedrooms    population    households  median_income  \n",
       "count    16512.000000  16512.000000  16512.000000   16512.000000  \n",
       "mean       537.881298   1425.513929    499.990189       3.870428  \n",
       "std        421.831667   1094.795467    382.865787       1.891936  \n",
       "min          1.000000      3.000000      1.000000       0.499900  \n",
       "25%        297.000000    787.000000    279.000000       2.562500  \n",
       "50%        434.000000   1167.000000    408.000000       3.538500  \n",
       "75%        642.000000   1726.000000    603.000000       4.750000  \n",
       "max       6210.000000  16305.000000   5358.000000      15.000100  "
      ]
     },
     "execution_count": 33,
     "metadata": {},
     "output_type": "execute_result"
    }
   ],
   "source": [
    "housing_num.describe()"
   ]
  },
  {
   "cell_type": "markdown",
   "id": "fb924d5b",
   "metadata": {},
   "source": [
    "You can see that all the features have very different ranges. Bringing these in alignment is called **feature scaling**. There are a number of ways to scale features. Scikit-Learn provides something called MinMaxScaler which scales the values to fit into a range defined by you. Below, the code is provided for when you are fitting it into the range from -1 to 1. AI algorithms often like the mean to be placed at zero, so best to set a range with zero as the mid point value. "
   ]
  },
  {
   "cell_type": "code",
   "execution_count": 34,
   "id": "396bcce8",
   "metadata": {},
   "outputs": [],
   "source": [
    "from sklearn.preprocessing import MinMaxScaler # get the MinMaxScaler\n",
    "\n",
    "min_max_scaler = MinMaxScaler(feature_range=(-1, 1)) # setup an instance of a scaler\n",
    "housing_num_min_max_scaled = min_max_scaler.fit_transform(housing_num)# use the scaler to transform the data housing_num"
   ]
  },
  {
   "cell_type": "markdown",
   "id": "afc23108",
   "metadata": {},
   "source": [
    "Alternatively, Scikit-Learn also provides a method called StandardScaler. This method tries normalise the distributional characteristics by considering mean and standard deviation for each feature, and normalising the values to have standard deviation 1. But, even without knowing the mathematical details, we can simply employ the tools provided by `sklearn` - example below."
   ]
  },
  {
   "cell_type": "code",
   "execution_count": 35,
   "id": "d3eb2e06",
   "metadata": {},
   "outputs": [],
   "source": [
    "from sklearn.preprocessing import StandardScaler\n",
    "\n",
    "std_scaler = StandardScaler()\n",
    "housing_num_std_scaled = std_scaler.fit_transform(housing_num)"
   ]
  },
  {
   "cell_type": "code",
   "execution_count": 36,
   "id": "43bd704e",
   "metadata": {},
   "outputs": [],
   "source": [
    "housing_num[:]=std_scaler.fit_transform(housing_num)"
   ]
  },
  {
   "cell_type": "markdown",
   "id": "1018f320",
   "metadata": {},
   "source": [
    "### Step 7: Train a Linear Regression Model\n",
    "\n",
    "In the first instance we will use the data resulting from the `SimpleImputer` (with the **median** as a strategy) and use   `StandardScaler` for scaling the features. Before we train the Linear Regression model for predicting median housing prices for districts, we need to also apply the scaling to the target labels (in our case, the known median housing prices). The code is provided below."
   ]
  },
  {
   "cell_type": "code",
   "execution_count": 37,
   "id": "483b52a3",
   "metadata": {},
   "outputs": [],
   "source": [
    "from sklearn.preprocessing import StandardScaler #This line is not necessary if you ran this prior to running this cell. \n",
    "#We are however including it here for completeness sake.\n",
    "\n",
    "target_scaler = StandardScaler() #instance of Scaler\n",
    "scaled_labels = target_scaler.fit_transform(housing_labels.to_frame()) #calculate the mean and standard deviation and use it to transform the target labels.\n"
   ]
  },
  {
   "cell_type": "markdown",
   "id": "2ed4b20f",
   "metadata": {},
   "source": [
    "### Training Step"
   ]
  },
  {
   "cell_type": "code",
   "execution_count": 39,
   "id": "fdc4e78d",
   "metadata": {},
   "outputs": [
    {
     "data": {
      "text/html": [
       "<style>#sk-container-id-2 {color: black;}#sk-container-id-2 pre{padding: 0;}#sk-container-id-2 div.sk-toggleable {background-color: white;}#sk-container-id-2 label.sk-toggleable__label {cursor: pointer;display: block;width: 100%;margin-bottom: 0;padding: 0.3em;box-sizing: border-box;text-align: center;}#sk-container-id-2 label.sk-toggleable__label-arrow:before {content: \"▸\";float: left;margin-right: 0.25em;color: #696969;}#sk-container-id-2 label.sk-toggleable__label-arrow:hover:before {color: black;}#sk-container-id-2 div.sk-estimator:hover label.sk-toggleable__label-arrow:before {color: black;}#sk-container-id-2 div.sk-toggleable__content {max-height: 0;max-width: 0;overflow: hidden;text-align: left;background-color: #f0f8ff;}#sk-container-id-2 div.sk-toggleable__content pre {margin: 0.2em;color: black;border-radius: 0.25em;background-color: #f0f8ff;}#sk-container-id-2 input.sk-toggleable__control:checked~div.sk-toggleable__content {max-height: 200px;max-width: 100%;overflow: auto;}#sk-container-id-2 input.sk-toggleable__control:checked~label.sk-toggleable__label-arrow:before {content: \"▾\";}#sk-container-id-2 div.sk-estimator input.sk-toggleable__control:checked~label.sk-toggleable__label {background-color: #d4ebff;}#sk-container-id-2 div.sk-label input.sk-toggleable__control:checked~label.sk-toggleable__label {background-color: #d4ebff;}#sk-container-id-2 input.sk-hidden--visually {border: 0;clip: rect(1px 1px 1px 1px);clip: rect(1px, 1px, 1px, 1px);height: 1px;margin: -1px;overflow: hidden;padding: 0;position: absolute;width: 1px;}#sk-container-id-2 div.sk-estimator {font-family: monospace;background-color: #f0f8ff;border: 1px dotted black;border-radius: 0.25em;box-sizing: border-box;margin-bottom: 0.5em;}#sk-container-id-2 div.sk-estimator:hover {background-color: #d4ebff;}#sk-container-id-2 div.sk-parallel-item::after {content: \"\";width: 100%;border-bottom: 1px solid gray;flex-grow: 1;}#sk-container-id-2 div.sk-label:hover label.sk-toggleable__label {background-color: #d4ebff;}#sk-container-id-2 div.sk-serial::before {content: \"\";position: absolute;border-left: 1px solid gray;box-sizing: border-box;top: 0;bottom: 0;left: 50%;z-index: 0;}#sk-container-id-2 div.sk-serial {display: flex;flex-direction: column;align-items: center;background-color: white;padding-right: 0.2em;padding-left: 0.2em;position: relative;}#sk-container-id-2 div.sk-item {position: relative;z-index: 1;}#sk-container-id-2 div.sk-parallel {display: flex;align-items: stretch;justify-content: center;background-color: white;position: relative;}#sk-container-id-2 div.sk-item::before, #sk-container-id-2 div.sk-parallel-item::before {content: \"\";position: absolute;border-left: 1px solid gray;box-sizing: border-box;top: 0;bottom: 0;left: 50%;z-index: -1;}#sk-container-id-2 div.sk-parallel-item {display: flex;flex-direction: column;z-index: 1;position: relative;background-color: white;}#sk-container-id-2 div.sk-parallel-item:first-child::after {align-self: flex-end;width: 50%;}#sk-container-id-2 div.sk-parallel-item:last-child::after {align-self: flex-start;width: 50%;}#sk-container-id-2 div.sk-parallel-item:only-child::after {width: 0;}#sk-container-id-2 div.sk-dashed-wrapped {border: 1px dashed gray;margin: 0 0.4em 0.5em 0.4em;box-sizing: border-box;padding-bottom: 0.4em;background-color: white;}#sk-container-id-2 div.sk-label label {font-family: monospace;font-weight: bold;display: inline-block;line-height: 1.2em;}#sk-container-id-2 div.sk-label-container {text-align: center;}#sk-container-id-2 div.sk-container {/* jupyter's `normalize.less` sets `[hidden] { display: none; }` but bootstrap.min.css set `[hidden] { display: none !important; }` so we also need the `!important` here to be able to override the default hidden behavior on the sphinx rendered scikit-learn.org. See: https://github.com/scikit-learn/scikit-learn/issues/21755 */display: inline-block !important;position: relative;}#sk-container-id-2 div.sk-text-repr-fallback {display: none;}</style><div id=\"sk-container-id-2\" class=\"sk-top-container\"><div class=\"sk-text-repr-fallback\"><pre>LinearRegression()</pre><b>In a Jupyter environment, please rerun this cell to show the HTML representation or trust the notebook. <br />On GitHub, the HTML representation is unable to render, please try loading this page with nbviewer.org.</b></div><div class=\"sk-container\" hidden><div class=\"sk-item\"><div class=\"sk-estimator sk-toggleable\"><input class=\"sk-toggleable__control sk-hidden--visually\" id=\"sk-estimator-id-2\" type=\"checkbox\" checked><label for=\"sk-estimator-id-2\" class=\"sk-toggleable__label sk-toggleable__label-arrow\">LinearRegression</label><div class=\"sk-toggleable__content\"><pre>LinearRegression()</pre></div></div></div></div></div>"
      ],
      "text/plain": [
       "LinearRegression()"
      ]
     },
     "execution_count": 39,
     "metadata": {},
     "output_type": "execute_result"
    }
   ],
   "source": [
    "from sklearn.linear_model import LinearRegression #get the library from sklearn.linear model\n",
    "\n",
    "model = LinearRegression() #get an instance of the untrained model\n",
    "model.fit(housing_num, scaled_labels)\n",
    "#model.fit(housing[[\"median_income\"]], scaled_labels) #fit it to your data\n",
    "#some_new_data = housing[[\"median_income\"]].iloc[:5]  # pretend this is new data\n",
    "\n",
    "#scaled_predictions = model.predict(some_new_data)\n",
    "#predictions = target_scaler.inverse_transform(scaled_predictions)"
   ]
  },
  {
   "cell_type": "code",
   "execution_count": 40,
   "id": "129a1e49",
   "metadata": {},
   "outputs": [],
   "source": [
    "some_new_data = housing_num.iloc[:5] #pretend this is new data\n",
    "#some_new_data = housing[[\"median_income\"]].iloc[:5]  # pretend this is new data\n",
    "\n",
    "scaled_predictions = model.predict(some_new_data)\n",
    "predictions = target_scaler.inverse_transform(scaled_predictions)"
   ]
  },
  {
   "cell_type": "code",
   "execution_count": 41,
   "id": "ebd4851b",
   "metadata": {},
   "outputs": [
    {
     "name": "stdout",
     "output_type": "stream",
     "text": [
      "[[275731.11448446]\n",
      " [331676.57911294]\n",
      " [137497.17946945]\n",
      " [126904.73895815]\n",
      " [302837.63110099]] 13096    458300.0\n",
      "14973    483800.0\n",
      "3785     101700.0\n",
      "14689     96100.0\n",
      "20507    361800.0\n",
      "Name: median_house_value, dtype: float64\n"
     ]
    }
   ],
   "source": [
    "print(predictions, housing_labels.iloc[:5])"
   ]
  },
  {
   "cell_type": "code",
   "execution_count": 42,
   "id": "3980d05c",
   "metadata": {},
   "outputs": [
    {
     "ename": "NameError",
     "evalue": "name 'housing_predictions' is not defined",
     "output_type": "error",
     "traceback": [
      "\u001b[0;31m---------------------------------------------------------------------------\u001b[0m",
      "\u001b[0;31mNameError\u001b[0m                                 Traceback (most recent call last)",
      "\u001b[0;32m<ipython-input-42-0fba8d5566f9>\u001b[0m in \u001b[0;36m<module>\u001b[0;34m\u001b[0m\n\u001b[1;32m      1\u001b[0m \u001b[0;31m# extra code – computes the error ratios discussed in the book\u001b[0m\u001b[0;34m\u001b[0m\u001b[0;34m\u001b[0m\u001b[0m\n\u001b[0;32m----> 2\u001b[0;31m \u001b[0merror_ratios\u001b[0m \u001b[0;34m=\u001b[0m \u001b[0mhousing_predictions\u001b[0m\u001b[0;34m[\u001b[0m\u001b[0;34m:\u001b[0m\u001b[0;36m5\u001b[0m\u001b[0;34m]\u001b[0m\u001b[0;34m.\u001b[0m\u001b[0mround\u001b[0m\u001b[0;34m(\u001b[0m\u001b[0;34m-\u001b[0m\u001b[0;36m2\u001b[0m\u001b[0;34m)\u001b[0m \u001b[0;34m/\u001b[0m \u001b[0mhousing_labels\u001b[0m\u001b[0;34m.\u001b[0m\u001b[0miloc\u001b[0m\u001b[0;34m[\u001b[0m\u001b[0;34m:\u001b[0m\u001b[0;36m5\u001b[0m\u001b[0;34m]\u001b[0m\u001b[0;34m.\u001b[0m\u001b[0mvalues\u001b[0m \u001b[0;34m-\u001b[0m \u001b[0;36m1\u001b[0m\u001b[0;34m\u001b[0m\u001b[0;34m\u001b[0m\u001b[0m\n\u001b[0m\u001b[1;32m      3\u001b[0m \u001b[0mprint\u001b[0m\u001b[0;34m(\u001b[0m\u001b[0;34m\", \"\u001b[0m\u001b[0;34m.\u001b[0m\u001b[0mjoin\u001b[0m\u001b[0;34m(\u001b[0m\u001b[0;34m[\u001b[0m\u001b[0;34mf\"{100 * ratio:.1f}%\"\u001b[0m \u001b[0;32mfor\u001b[0m \u001b[0mratio\u001b[0m \u001b[0;32min\u001b[0m \u001b[0merror_ratios\u001b[0m\u001b[0;34m]\u001b[0m\u001b[0;34m)\u001b[0m\u001b[0;34m)\u001b[0m\u001b[0;34m\u001b[0m\u001b[0;34m\u001b[0m\u001b[0m\n",
      "\u001b[0;31mNameError\u001b[0m: name 'housing_predictions' is not defined"
     ]
    }
   ],
   "source": [
    "# extra code – computes the error ratios discussed in the book\n",
    "error_ratios = housing_predictions[:5].round(-2) / housing_labels.iloc[:5].values - 1\n",
    "print(\", \".join([f\"{100 * ratio:.1f}%\" for ratio in error_ratios]))"
   ]
  },
  {
   "cell_type": "markdown",
   "id": "f01ebd5a",
   "metadata": {},
   "source": [
    "### Step 8: Cross Validation\n",
    "\n",
    "As mentioned in Lecture 4 - pre-recorded lecture - having one training set and one test set to check performance is limited in producing a robust AI model. What you really want to see is a stable performance across many training sets and test sets. IN the first stance you want to test the model on the training set.\n",
    "\n",
    "One way to evaluate your model before testing on the new data (the data you set aside as your test data) is cross validation. This where you split your training data into many pieces, then leave on of the pieces out for testing.The code below does that!"
   ]
  },
  {
   "cell_type": "code",
   "execution_count": 43,
   "id": "cf15d382",
   "metadata": {},
   "outputs": [],
   "source": [
    "from sklearn.model_selection import cross_val_score\n",
    "\n",
    "rmses = -cross_val_score(model, housing_num, scaled_labels,\n",
    "                              scoring=\"neg_root_mean_squared_error\", cv=10)"
   ]
  },
  {
   "cell_type": "code",
   "execution_count": 44,
   "id": "30ea58a8",
   "metadata": {},
   "outputs": [
    {
     "data": {
      "text/plain": [
       "count    10.000000\n",
       "mean      0.600606\n",
       "std       0.007835\n",
       "min       0.591452\n",
       "25%       0.594204\n",
       "50%       0.598207\n",
       "75%       0.608375\n",
       "max       0.611381\n",
       "dtype: float64"
      ]
     },
     "execution_count": 44,
     "metadata": {},
     "output_type": "execute_result"
    }
   ],
   "source": [
    "pd.Series(rmses).describe()"
   ]
  },
  {
   "cell_type": "markdown",
   "id": "c936dc9a",
   "metadata": {},
   "source": [
    "## Task 4-2: Hand Written Digit Classification\n",
    "\n",
    "As mentioned earlier, as an example, for the hand written digits, we will use a specific kind of neural network model called a **Convolutional Neural Network (CNN)** model. In the lectures, we learned about general neural networks but not CNN. If you want to get a feel for CNNs, you can watch the Stat Quest Video [Neural Networks Part 8: Image Classification with Convolutional Neural Networks (CNNs)](https://www.youtube.com/watch?v=HGwBXDKFk9I). If you feel confident to go deeper, Chapters 19 and 22 of Russell and Norvig's Book [\"Artificial Intelligence: a modern approach\"](https://eleanor.lib.gla.ac.uk/record=b3897063) is an excellent read, not to mention Géron's book [\"Hands-On Machine Learning with Scikit-Learn, Keras & Tensorflow\"](https://eleanor.lib.gla.ac.uk/record=b4094676).\n",
    "\n",
    "For this task, **we will move away from `sklearn` and use `tensorflow` and `keras` instead**. Tensorflow and Keras are popular libraries recognised for their usefulness in building neural networks quickly. Although we already loaded the data from `sklearn`, in the code below, we will get it again from `tensorflow.keras.datasets`. This will allow you to experience getting data from another library and also make it easier to work with the subsequent code because everything will happen with tensorflow. \n",
    "\n",
    "The data is already fairly organised, so, the data cleaning part of the operation can be abbreviated. This is however not a characteristic of image data. It is a characteristic of **curated data** which is not the same as real world messy data 9such as the housing data from earlier). \n",
    "\n",
    "The code for importing the libraries and getting the data has been included below. To get these to work, **you will need to have your environment installed with `tensorflow` and `keras`**. In the first line of the first code cell below, you will notice that `tensorflow` is imported as `tf`. This is a recognised convention in the machine learning community. Adopting this convention makes your code more readable for this community. Once you have imported the library that way, `tf` will be used subsequently instead of `tensorflow`.\n",
    "\n",
    "### Step 1: Get the Data"
   ]
  },
  {
   "cell_type": "code",
   "execution_count": 45,
   "id": "542b6908",
   "metadata": {},
   "outputs": [],
   "source": [
    "import tensorflow as tf\n",
    "\n",
    "mnist = tf.keras.datasets.mnist.load_data()"
   ]
  },
  {
   "cell_type": "markdown",
   "id": "8b89621d",
   "metadata": {},
   "source": [
    "### Step 2: Review What the Data Looks Like  \n",
    "\n",
    "You can review information about what this dataset looks like at the Keras page for the [MNIST digits classification dataset](https://keras.io/api/datasets/mnist/). The page makes it clear that `mnist` above is organised as a data type called **tuple** - something that looks like `(a,b)`. The `a` and `b` are tuples themselves, representing training and test data, respectively. Check first that mnist is a **tuple** with following line of code."
   ]
  },
  {
   "cell_type": "code",
   "execution_count": 46,
   "id": "45cdcbee",
   "metadata": {},
   "outputs": [
    {
     "name": "stdout",
     "output_type": "stream",
     "text": [
      "<class 'tuple'>\n"
     ]
    }
   ],
   "source": [
    "print(type(mnist))"
   ]
  },
  {
   "cell_type": "markdown",
   "id": "1adf9270",
   "metadata": {},
   "source": [
    "The **Keras webpages are useful** for looking up and getting information about wide range of keras commands you might encouter in machine learning programs. "
   ]
  },
  {
   "cell_type": "markdown",
   "id": "1805f5f4",
   "metadata": {},
   "source": [
    "### Step 3: How to Get the Data\n",
    "\n",
    "To get the data out of `a` and `b`, run the following code. Read the comment for explanation. "
   ]
  },
  {
   "cell_type": "code",
   "execution_count": 47,
   "id": "c621149f",
   "metadata": {},
   "outputs": [],
   "source": [
    "(X_train_full, y_train_full), (X_test, y_test) = mnist \n",
    "# (X_train_full, y_train_full) is the 'tuple' related to `a` and (X_test, y_test) is the 'tuple' related to `b`.\n",
    "# X_train_full is the full training data and y_train_full are the corresponding labels \n",
    "# - labels indicate what digit the image is of, for example 5 if it is an image of a handwritten 5."
   ]
  },
  {
   "cell_type": "markdown",
   "id": "9a62b91a",
   "metadata": {},
   "source": [
    "### Step 4: Scaling the Pixel Values (the features)\n",
    "\n",
    "In dealing with images, there are four main comsiderations that most frequently arise: \n",
    "- 1) input size of the image (height and width in terms of pixels)\n",
    "- 2) whether you want to move the pixels so that the image is centered in the middle\n",
    "- 3) scaling the value of the pixels to be in a specified range. \n",
    "\n",
    "The neural network we will use will works best with pixel values between 0 and 1. Pixels in a black and white image usually have values between 0 and 255. The code below simply rescales these, dividing by 255. There are other ways of scaling this, similar to when we scaled the feature values of the `housing` data."
   ]
  },
  {
   "cell_type": "code",
   "execution_count": 48,
   "id": "7c876f2c",
   "metadata": {},
   "outputs": [],
   "source": [
    "X_train_full = X_train_full / 255.\n",
    "X_test = X_test / 255."
   ]
  },
  {
   "cell_type": "markdown",
   "id": "bf244fc8",
   "metadata": {},
   "source": [
    "### Step 5: Split the Training Data into Training and Validation Data\n",
    "\n",
    "We already have data split into training and test data. The **validation data is split from the training data** and used to evaluate the performance during training. This is **different from test data** which is completely new data not seen during training or fine tuning. \n",
    "\n",
    "Test data is used for the final test before publishing the results. In fact in many competitions, the test data is **withheld behind an application interface** so that contestants cannot engage in **data snooping**. \n",
    "\n",
    "The code below takes the last 5000 images for validation data. The second line does the same for the corresponding labels."
   ]
  },
  {
   "cell_type": "code",
   "execution_count": 49,
   "id": "9197eb2f",
   "metadata": {},
   "outputs": [],
   "source": [
    "X_train, X_valid = X_train_full[:-5000], X_train_full[-5000:]\n",
    "y_train, y_valid = y_train_full[:-5000], y_train_full[-5000:]"
   ]
  },
  {
   "cell_type": "markdown",
   "id": "d405ef72",
   "metadata": {},
   "source": [
    "### Step 5: Increasing Dimension to Include Colour Channels\n",
    "\n",
    "An image is usually represented as a (width x height) block of pixels. When presenting your images to the neural network, you need to add an extra dimension to your image representation, to indicate the number of colour channels your images are using. Normally, for a greyscale image this would be 1, while for a RBG colour image it would be 3. \n",
    "\n",
    "All in all you will be submitting something that has shape like `(N, W, H, C)` where `N` is number of images, `W` is the width of any one image, `H` is the height of any one image, and `C` is the number channels (1 for greyscale, 3 for colour). \n",
    "\n",
    "All your images are expected to be the same size as it enters the neural network. \n",
    "\n",
    "The mnist dataset currently has a shape like `(N, W, H)`. Your numpy library allows you to add the required extra dimension. The code below does this."
   ]
  },
  {
   "cell_type": "code",
   "execution_count": 50,
   "id": "eb5d4722",
   "metadata": {},
   "outputs": [],
   "source": [
    "import numpy as np # you won't need to run this line if you ran it before in this notebook. But for completeness.\n",
    "\n",
    "X_train = X_train[..., np.newaxis] #adds a dimension to the image training set - the three dots means keeping everything else the same.\n",
    "X_valid = X_valid[..., np.newaxis]\n",
    "X_test = X_test[..., np.newaxis]"
   ]
  },
  {
   "cell_type": "markdown",
   "id": "6f9f3aba",
   "metadata": {},
   "source": [
    "### Step 6: Build the Neural Network and Fit it to the Data"
   ]
  },
  {
   "cell_type": "code",
   "execution_count": 51,
   "id": "a2a69e1c",
   "metadata": {},
   "outputs": [
    {
     "name": "stdout",
     "output_type": "stream",
     "text": [
      "Epoch 1/10\n",
      "1719/1719 [==============================] - 53s 30ms/step - loss: 0.1933 - accuracy: 0.9422 - val_loss: 0.0442 - val_accuracy: 0.9868\n",
      "Epoch 2/10\n",
      "1719/1719 [==============================] - 50s 29ms/step - loss: 0.0869 - accuracy: 0.9749 - val_loss: 0.0433 - val_accuracy: 0.9878\n",
      "Epoch 3/10\n",
      "1719/1719 [==============================] - 50s 29ms/step - loss: 0.0640 - accuracy: 0.9801 - val_loss: 0.0351 - val_accuracy: 0.9902\n",
      "Epoch 4/10\n",
      "1719/1719 [==============================] - 48s 28ms/step - loss: 0.0512 - accuracy: 0.9845 - val_loss: 0.0390 - val_accuracy: 0.9902\n",
      "Epoch 5/10\n",
      "1719/1719 [==============================] - 48s 28ms/step - loss: 0.0437 - accuracy: 0.9866 - val_loss: 0.0381 - val_accuracy: 0.9912\n",
      "Epoch 6/10\n",
      "1719/1719 [==============================] - 48s 28ms/step - loss: 0.0367 - accuracy: 0.9885 - val_loss: 0.0390 - val_accuracy: 0.9906\n",
      "Epoch 7/10\n",
      "1719/1719 [==============================] - 48s 28ms/step - loss: 0.0318 - accuracy: 0.9901 - val_loss: 0.0371 - val_accuracy: 0.9924\n",
      "Epoch 8/10\n",
      "1719/1719 [==============================] - 48s 28ms/step - loss: 0.0298 - accuracy: 0.9903 - val_loss: 0.0449 - val_accuracy: 0.9898\n",
      "Epoch 9/10\n",
      "1719/1719 [==============================] - 49s 28ms/step - loss: 0.0258 - accuracy: 0.9918 - val_loss: 0.0398 - val_accuracy: 0.9932\n",
      "Epoch 10/10\n",
      "1719/1719 [==============================] - 48s 28ms/step - loss: 0.0239 - accuracy: 0.9922 - val_loss: 0.0408 - val_accuracy: 0.9930\n"
     ]
    },
    {
     "data": {
      "text/plain": [
       "<keras.callbacks.History at 0x2900f7d60>"
      ]
     },
     "execution_count": 51,
     "metadata": {},
     "output_type": "execute_result"
    }
   ],
   "source": [
    "tf.keras.backend.clear_session()\n",
    "\n",
    "tf.random.set_seed(42)\n",
    "np.random.seed(42)\n",
    "\n",
    "# Unlike scikit-learn, with tensorflow and keras, the model is built by defining each layer of the neural network.\n",
    "# Below, everytime tf.keras.layers is called it is building in another layer\n",
    "\n",
    "model = tf.keras.Sequential([\n",
    "    tf.keras.layers.Conv2D(32, kernel_size=3, padding=\"same\", activation=\"relu\", kernel_initializer=\"he_normal\"),\n",
    "    tf.keras.layers.Conv2D(64, kernel_size=3, padding=\"same\", activation=\"relu\", kernel_initializer=\"he_normal\"),\n",
    "    tf.keras.layers.MaxPool2D(),\n",
    "    tf.keras.layers.Flatten(),\n",
    "    tf.keras.layers.Dropout(0.25),\n",
    "    tf.keras.layers.Dense(128, activation=\"relu\", kernel_initializer=\"he_normal\"),\n",
    "    tf.keras.layers.Dropout(0.5),\n",
    "    tf.keras.layers.Dense(10, activation=\"softmax\")\n",
    "])\n",
    "model.compile(loss=\"sparse_categorical_crossentropy\", optimizer=\"nadam\", \n",
    "              metrics=[\"accuracy\"])\n",
    "\n",
    "model.fit(X_train, y_train, epochs=10, validation_data=(X_valid, y_valid))"
   ]
  },
  {
   "cell_type": "code",
   "execution_count": 52,
   "id": "d356c6f5",
   "metadata": {},
   "outputs": [
    {
     "name": "stdout",
     "output_type": "stream",
     "text": [
      "Model: \"sequential\"\n",
      "_________________________________________________________________\n",
      " Layer (type)                Output Shape              Param #   \n",
      "=================================================================\n",
      " conv2d (Conv2D)             (None, 28, 28, 32)        320       \n",
      "                                                                 \n",
      " conv2d_1 (Conv2D)           (None, 28, 28, 64)        18496     \n",
      "                                                                 \n",
      " max_pooling2d (MaxPooling2D  (None, 14, 14, 64)       0         \n",
      " )                                                               \n",
      "                                                                 \n",
      " flatten (Flatten)           (None, 12544)             0         \n",
      "                                                                 \n",
      " dropout (Dropout)           (None, 12544)             0         \n",
      "                                                                 \n",
      " dense (Dense)               (None, 128)               1605760   \n",
      "                                                                 \n",
      " dropout_1 (Dropout)         (None, 128)               0         \n",
      "                                                                 \n",
      " dense_1 (Dense)             (None, 10)                1290      \n",
      "                                                                 \n",
      "=================================================================\n",
      "Total params: 1,625,866\n",
      "Trainable params: 1,625,866\n",
      "Non-trainable params: 0\n",
      "_________________________________________________________________\n"
     ]
    }
   ],
   "source": [
    "model.summary() # not necessary for the machine learning task."
   ]
  },
  {
   "cell_type": "markdown",
   "id": "022105d9",
   "metadata": {},
   "source": [
    "The summary above is not easy to read initially but it is a presentation of each layer. The numbers at the bottom tell you how many parameters need learning in this model. The visualisation can be useful later when you get more used to neural networks if you should continue on to Semester 2."
   ]
  },
  {
   "cell_type": "markdown",
   "id": "0e414d05",
   "metadata": {},
   "source": [
    "### Step 7: Train and Evaluate the Model "
   ]
  },
  {
   "cell_type": "code",
   "execution_count": 53,
   "id": "f36a2f27",
   "metadata": {},
   "outputs": [
    {
     "name": "stdout",
     "output_type": "stream",
     "text": [
      "313/313 [==============================] - 2s 6ms/step - loss: 0.0294 - accuracy: 0.9920\n"
     ]
    },
    {
     "data": {
      "text/plain": [
       "[0.02940923161804676, 0.9919999837875366]"
      ]
     },
     "execution_count": 53,
     "metadata": {},
     "output_type": "execute_result"
    }
   ],
   "source": [
    "\n",
    "model.evaluate(X_test, y_test)"
   ]
  },
  {
   "cell_type": "markdown",
   "id": "dfc4b587",
   "metadata": {},
   "source": [
    "### Comparing with Another Model\n",
    "\n",
    "Below you are provided with code for using something called **Stochastic Gradient Decent Classifier**. This model applies the stochastic gradient descent optimiser (cf. the **nadam** optimiser used with the CNN above) with any number of algorithms but by default it applies it to a **Support Vector Machine**. "
   ]
  },
  {
   "cell_type": "code",
   "execution_count": 54,
   "id": "568ed072",
   "metadata": {},
   "outputs": [],
   "source": [
    "# getting the data again from Scikit-Learn, so that we know the image dimens fit for the model!\n",
    "\n",
    "from sklearn.datasets import fetch_openml\n",
    "import pandas as pd\n",
    "\n",
    "mnist = fetch_openml('mnist_784', as_frame=False, parser='auto')\n",
    "\n",
    "# getting the data and the categories for the data\n",
    "images = mnist.data\n",
    "categories = mnist.target"
   ]
  },
  {
   "cell_type": "markdown",
   "id": "1185aac1",
   "metadata": {},
   "source": [
    "**Normally, we would set aside the test data**. \n",
    "\n",
    "But in this experiement we will abbreviate and use the entire data and evaluate using cross validation, especially since we are not intending, on this occasion, to develop our model with the validation step. **Note that running this might take a while - so be patient!**"
   ]
  },
  {
   "cell_type": "code",
   "execution_count": 55,
   "id": "5a621d01",
   "metadata": {},
   "outputs": [
    {
     "name": "stdout",
     "output_type": "stream",
     "text": [
      "[0.872      0.86071429 0.87614286 0.86442857 0.84942857 0.86271429\n",
      " 0.87914286 0.858      0.892      0.889     ]\n"
     ]
    }
   ],
   "source": [
    "from sklearn.linear_model import SGDClassifier\n",
    "from sklearn.model_selection import cross_val_score\n",
    "\n",
    "sgd_clf = SGDClassifier(random_state=42)\n",
    "\n",
    "#cross validation on training data for fit accuracy\n",
    "\n",
    "accuracy = cross_val_score(sgd_clf, images, categories, cv=10)\n",
    "\n",
    "print(accuracy)"
   ]
  },
  {
   "cell_type": "markdown",
   "id": "9acedfa2",
   "metadata": {},
   "source": [
    "You can see that the accuracies across all the validation runs are far below that of the CNN test results above."
   ]
  },
  {
   "cell_type": "markdown",
   "id": "8e27a131",
   "metadata": {},
   "source": [
    "# Task 5: Reflection\n",
    "\n",
    "That's it! You've reviewed the machine learning workflow. Before you go, let's reflect on a few things together to fill in the gaps!\n",
    "\n",
    "\n",
    "## Task 5-1: Reflecting on the Machine Learning Workflow\n",
    "\n",
    "\n",
    "Get together with your peer group. For the following tasks, you are expected to write a markdown cell describing the workflow required. You are free to include code, but **no Python code is required**. Discuss the following:\n",
    "\n",
    "1. What would you need to do for your code if:\n",
    "\n",
    "- Your were to use your own data (for example, discuss survey data data and photos)?\n",
    "- You were changing\n",
    "    - Your model?\n",
    "    - Your scaling method?\n",
    "    - Your approach to handling missing data?\n",
    "2. What is the significance of cross validation?\n",
    "\n",
    "### Further exploration\n",
    "\n",
    "In this exercise we only considered numerical data from the housing data - that is we left out the feature `ocean_proximity` which is not numerical. Find out about **One Hot Encoding** from Chapter 2 of the [Hands On Machine Learning book](https://eleanor.lib.gla.ac.uk/record=b4094676). Also watch the video on [Word Embedding and Word2Vec](https://www.youtube.com/watch?v=viZrOnJclY0), to get an intuition for **how textual content is transformed into numerical data**.\n",
    "\n",
    "## Task 5-2: Introducing the Tensorflow Playground\n",
    "\n",
    "Before you go, let's play a little bit more with Neural Networks. There is an excellent online resource for this. Go to [playground.tensorflow.org](https://playground.tensorflow.org/). A screenshot is provided below should it help to verify that you have navigated to the right place!\n",
    "\n",
    "\n",
    "Change your data type to \"spiral\" by clicking on the picture for spiral data on the lefthand side. \n",
    "- The idea is that the point of orange colour is one class and the ones of blue colour is another class. \n",
    "- As the neural network learns you will see the image on the righthand side change background colour (blue/organge) - the class the neural network thinks the points in those regions belong to.  \n",
    "\n",
    "#### Task 5-2-1: Finding small networks that perform well.\n",
    "\n",
    "- Play around with the interface to get a feel for where everything is. For example, add more hidden layers (each layer is represented as nodes laid out vertically) and/or add nodes in any layer. Do this together in your group. \n",
    "- Try to come up with the smallest network that will bring the training loss down to 0.2 or less. The traning loss is indicated on the right hand side - right underneath the label **Output**.\n",
    "- In a Markdown cell below, describe how many layers with how many nodes you had in your network and how many epochs (indicated on the top lefthand corner) for your best model.\n",
    "\n",
    "#### Task 5-2-2: Examine the patterns displayed in the network nodes (see the image above). \n",
    "\n",
    "Discuss in your group and note down in a markdown cell: \n",
    "- what kinds of patterns the neural network might be learning at different layers and nodes. It is difficult to determine this for certain but you can get some intuition by hovering over the nodes in the tensorflow playground.\n",
    "\n",
    "Markdown cells have been included below for addressing the discussions in Task 5. This is for your convenience - modify as you see fit."
   ]
  },
  {
   "cell_type": "markdown",
   "id": "94d01f6a",
   "metadata": {},
   "source": [
    "**Markdown cell for Task 5**\n",
    "*Workflow for Using My Own Data\n",
    "Survey Data*\n",
    "\n",
    "**Task 5-1: Reflecting on the Machine Learning Workflow**\n",
    "\n",
    "***Survey Data***\n",
    "\n",
    "The first step I would need to take is to collect the data. It is very important to be sure that it is collected ethically and with consent. Next follows the data cleaning, which means that I need to clean the data of inconsistencies and errors. Another important step is to make a decision on which question is relevant to my analysis. I should also convert the categorical data into numerical formats if necessary. This is known as data preprocessing. Then follows the handling of missing data; for this, I would need a strategy. Data splitting is the next step; it involves splitting the data into training and testing sets.\n",
    "\n",
    "\n",
    "***Photos***\n",
    "\n",
    "If I were to use photos, I would, first,  need to ensure that they are ethically sourced and meet privacy and copyright requirements. Another important step that I need to follow would be the correct resizing and pixel conversion of the images. Then, I would need to split the images into training, validation, and testing sets.\n",
    "\n",
    "\n",
    "***Changing the Scaling Method***\n",
    "\n",
    "If I were to change the model, I would first choose a scaling method that is suitable for my data. Then, I would fit the scaler on the training data and transform both training and testing data. Next follows that I am going to need to retrain my model on the data that has been scaled, and finally, I will need to evaluate the impact of scaling on the performance of the model.\n",
    "\n",
    "\n",
    "***Changing Approach to Handling Missing Data***\n",
    "\n",
    "The first step would be to analyse how the missing data is affecting the current model performance. Then, I have to think of a new strategy that is based on the data characteristics. Later on, I will start using the new strategy for my data, and reevaluate the model\n",
    "\n",
    "***Significance of Cross-Validation***\n",
    "\n",
    "I would, first, need to find a more successful way of evaluating the model’s performance than the train-test split. This will reduce the risk of overfitting to a particular subset of the data. Then follows a step called hyperparameter tuning:  an essential step for finding the best hyperparameters without overfitting the test set. In the end is generalisability: The model will perform well on subsets of data.\n",
    "\n",
    "**Task 5-2: Introducing the Tensorflow Playground**\n",
    "\n",
    "Mark and I worked together on this task since my team members were not present during this lab.\n",
    "\n",
    "We, first, navigated to Tensorflow Playground, and then changed the data type to \"spiral\" by clicking on the picture for spiral data on the lefthand side.\n",
    "\n",
    "![Tensorflow Playground Results](https://cdn.discordapp.com/attachments/1043922557272870993/1180953761066266714/Screenshot_2023-11-15_at_11.58.10.png?ex=657f4be5&is=656cd6e5&hm=0b4d65ef6a2a133ac5e825b63aff2b7edbf49c9982d9402b69ec2c4afb230187&)\n",
    "\n",
    "\n",
    "**Task 5-2-1: Finding small networks that perform well**\n",
    "\n",
    "I added a neuron to both the first and second layers of my model. This definitely improved performance. After the modification, the training loss dropped to 0.217. Although we followed the same steps, Mark achieved better results, with a training loss of 0.123. I couldn't get less than 0.217.\n",
    "\n",
    "**Task 5-2-2: Examine the patterns displayed in the network nodes**\n",
    "\n",
    "It appears to me that in the first layer, each of the nodes is learning high-level patterns. It separates the blue and green classes into orange and blue diagonal sections, each at a different angle. The second layer nodes are attempting to learn more complex patterns. They seem to be recognising the shape - spiral, and how it shifts into curves and splitting the data into different sections.\n",
    "\n",
    "\n"
   ]
  },
  {
   "cell_type": "markdown",
   "id": "12a449b9",
   "metadata": {},
   "source": [
    "## Task 5-3 (Optional): Pre-trained Models\n",
    "\n",
    "Before we conclude this notebook, we will momentarily explore the **pre-trained model** VGG-19. This model was trained for computer vision and image classification. It was developed at Oxford but it is often considered to be the next generation model after AlexNet, which won the ImageNet challenge in 2012.\n",
    "\n",
    "The model is introduced here to illustrate an example of a large convolutional neural network, much bigger than that used for MNIST classification task. Note how many more laters are involved, and the total parameters indicated at the bottom is huge. We can talk about this further if you should continue onto the course in Semester 2."
   ]
  },
  {
   "cell_type": "code",
   "execution_count": 56,
   "id": "5acc6f0c",
   "metadata": {},
   "outputs": [
    {
     "name": "stdout",
     "output_type": "stream",
     "text": [
      "Downloading data from https://storage.googleapis.com/tensorflow/keras-applications/vgg19/vgg19_weights_tf_dim_ordering_tf_kernels.h5\n",
      "574710816/574710816 [==============================] - 37s 0us/step\n"
     ]
    }
   ],
   "source": [
    "from keras.applications.vgg19 import VGG19\n",
    "\n",
    "model = VGG19() ### this will take some time!!"
   ]
  },
  {
   "cell_type": "code",
   "execution_count": 57,
   "id": "543b2700",
   "metadata": {},
   "outputs": [
    {
     "name": "stdout",
     "output_type": "stream",
     "text": [
      "Model: \"vgg19\"\n",
      "_________________________________________________________________\n",
      " Layer (type)                Output Shape              Param #   \n",
      "=================================================================\n",
      " input_1 (InputLayer)        [(None, 224, 224, 3)]     0         \n",
      "                                                                 \n",
      " block1_conv1 (Conv2D)       (None, 224, 224, 64)      1792      \n",
      "                                                                 \n",
      " block1_conv2 (Conv2D)       (None, 224, 224, 64)      36928     \n",
      "                                                                 \n",
      " block1_pool (MaxPooling2D)  (None, 112, 112, 64)      0         \n",
      "                                                                 \n",
      " block2_conv1 (Conv2D)       (None, 112, 112, 128)     73856     \n",
      "                                                                 \n",
      " block2_conv2 (Conv2D)       (None, 112, 112, 128)     147584    \n",
      "                                                                 \n",
      " block2_pool (MaxPooling2D)  (None, 56, 56, 128)       0         \n",
      "                                                                 \n",
      " block3_conv1 (Conv2D)       (None, 56, 56, 256)       295168    \n",
      "                                                                 \n",
      " block3_conv2 (Conv2D)       (None, 56, 56, 256)       590080    \n",
      "                                                                 \n",
      " block3_conv3 (Conv2D)       (None, 56, 56, 256)       590080    \n",
      "                                                                 \n",
      " block3_conv4 (Conv2D)       (None, 56, 56, 256)       590080    \n",
      "                                                                 \n",
      " block3_pool (MaxPooling2D)  (None, 28, 28, 256)       0         \n",
      "                                                                 \n",
      " block4_conv1 (Conv2D)       (None, 28, 28, 512)       1180160   \n",
      "                                                                 \n",
      " block4_conv2 (Conv2D)       (None, 28, 28, 512)       2359808   \n",
      "                                                                 \n",
      " block4_conv3 (Conv2D)       (None, 28, 28, 512)       2359808   \n",
      "                                                                 \n",
      " block4_conv4 (Conv2D)       (None, 28, 28, 512)       2359808   \n",
      "                                                                 \n",
      " block4_pool (MaxPooling2D)  (None, 14, 14, 512)       0         \n",
      "                                                                 \n",
      " block5_conv1 (Conv2D)       (None, 14, 14, 512)       2359808   \n",
      "                                                                 \n",
      " block5_conv2 (Conv2D)       (None, 14, 14, 512)       2359808   \n",
      "                                                                 \n",
      " block5_conv3 (Conv2D)       (None, 14, 14, 512)       2359808   \n",
      "                                                                 \n",
      " block5_conv4 (Conv2D)       (None, 14, 14, 512)       2359808   \n",
      "                                                                 \n",
      " block5_pool (MaxPooling2D)  (None, 7, 7, 512)         0         \n",
      "                                                                 \n",
      " flatten (Flatten)           (None, 25088)             0         \n",
      "                                                                 \n",
      " fc1 (Dense)                 (None, 4096)              102764544 \n",
      "                                                                 \n",
      " fc2 (Dense)                 (None, 4096)              16781312  \n",
      "                                                                 \n",
      " predictions (Dense)         (None, 1000)              4097000   \n",
      "                                                                 \n",
      "=================================================================\n",
      "Total params: 143,667,240\n",
      "Trainable params: 143,667,240\n",
      "Non-trainable params: 0\n",
      "_________________________________________________________________\n",
      "None\n"
     ]
    }
   ],
   "source": [
    "print(model.summary())"
   ]
  },
  {
   "cell_type": "markdown",
   "id": "a7c37300",
   "metadata": {},
   "source": [
    "# Summary\n",
    "\n",
    "In this notebook you learned about the machine learning pipeline. You reviewed the general workflow from class, and reflected on the workflow in the context of two example cases and data (housing data and minist data). You tried out **Linear Regression** and **Convolutional Neural Net Work**. You also briefly looked at something called a **Support Vector Machine** with **Stochastic Gradient Descent** (not covered in the lectures), comparing the performance for handwritten digit recognition. \n",
    "\n",
    "Any one of these algorithms when looked at in detail, can be quite complex in terms of steps, as seen in the lectures and these labs. However, when using convenient libraries such as `sklearn`, many of them can be implemented in just a few lines. Having said that, where much of the complexity comes in is in preparing the data. And the **data needs more preparing when it is just collected from real world scenarios or sources**.\n",
    "\n",
    "**When data is curated** (such as the MNIST data), there is less to clean and prepare. However, if we are to discuss AI and bias, we need to to critically look at decisions made at the data curation stage. Often these decisions are not as transparent as it could be, which compromises our ability to assess the suitability of datasets, algorithms, and interpretation of results.\n",
    "\n",
    "We also played with the Tensorflow Playground to enhance our intuition for neural networks. "
   ]
  },
  {
   "cell_type": "code",
   "execution_count": null,
   "id": "b0b725e1",
   "metadata": {},
   "outputs": [],
   "source": []
  }
 ],
 "metadata": {
  "kernelspec": {
   "display_name": "Python 3",
   "language": "python",
   "name": "python3"
  },
  "language_info": {
   "codemirror_mode": {
    "name": "ipython",
    "version": 3
   },
   "file_extension": ".py",
   "mimetype": "text/x-python",
   "name": "python",
   "nbconvert_exporter": "python",
   "pygments_lexer": "ipython3",
   "version": "3.9.18"
  }
 },
 "nbformat": 4,
 "nbformat_minor": 5
}
